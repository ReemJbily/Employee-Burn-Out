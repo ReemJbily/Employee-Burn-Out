{
  "cells": [
    {
      "cell_type": "code",
      "execution_count": 1,
      "metadata": {
        "id": "XsII823wcUkv"
      },
      "outputs": [],
      "source": [
        "import numpy as np\n",
        "import pandas as pd\n",
        "import matplotlib.pyplot as plt\n",
        "%matplotlib inline\n",
        "import seaborn as sns\n",
        "\n",
        "from sklearn.model_selection import train_test_split\n",
        "from sklearn.metrics import mean_squared_error\n",
        "\n",
        "\n",
        "from sklearn.preprocessing import StandardScaler\n",
        "\n",
        "import pickle\n",
        "from urllib.parse import urlparse\n",
        "\n",
        "from sklearn.ensemble import RandomForestRegressor\n",
        "from xgboost import XGBRegressor\n",
        "import catboost as cb\n",
        "from lightgbm import LGBMRegressor"
      ]
    },
    {
      "cell_type": "code",
      "execution_count": 3,
      "metadata": {},
      "outputs": [],
      "source": [
        "from mlflow.models import ModelSignature\n",
        "from mlflow.types.schema import Schema, ColSpec\n",
        "from mlflow.models import infer_signature"
      ]
    },
    {
      "cell_type": "markdown",
      "metadata": {
        "id": "Yx1jEO0NyP37"
      },
      "source": [
        "# Setup MLFLOW"
      ]
    },
    {
      "cell_type": "code",
      "execution_count": 24,
      "metadata": {
        "colab": {
          "base_uri": "https://localhost:8080/"
        },
        "collapsed": true,
        "id": "XW2YxWg7yO2F",
        "outputId": "b8fedf84-a394-4497-9483-66d9c0f90409"
      },
      "outputs": [
        {
          "name": "stderr",
          "output_type": "stream",
          "text": [
            "2024/09/15 20:09:44 INFO mlflow.tracking.fluent: Experiment with name 'Employee-Burn-Out-New-Exp' does not exist. Creating a new experiment.\n"
          ]
        },
        {
          "data": {
            "text/plain": [
              "<Experiment: artifact_location='file:///c:/Users/Windows.10/Employee-Burn-Out/mlruns/845213557949273536', creation_time=1726420184733, experiment_id='845213557949273536', last_update_time=1726420184733, lifecycle_stage='active', name='Employee-Burn-Out-New-Exp', tags={}>"
            ]
          },
          "execution_count": 24,
          "metadata": {},
          "output_type": "execute_result"
        }
      ],
      "source": [
        "import mlflow\n",
        "import mlflow.sklearn\n",
        "mlflow.set_experiment('Employee-Burn-Out-New-Exp')"
      ]
    },
    {
      "cell_type": "markdown",
      "metadata": {},
      "source": []
    },
    {
      "cell_type": "markdown",
      "metadata": {
        "id": "oAPtHPxZe7zA"
      },
      "source": [
        "# Read Data"
      ]
    },
    {
      "cell_type": "code",
      "execution_count": 6,
      "metadata": {
        "id": "M5mGRDREeVOg"
      },
      "outputs": [],
      "source": [
        "train=pd.read_csv(r'D:/Users/user/mlops/work_burn_out/data/train.csv')\n",
        "test=pd.read_csv(r'D:/Users/user/mlops/work_burn_out/data/test.csv')"
      ]
    },
    {
      "cell_type": "markdown",
      "metadata": {
        "id": "SuW26lChe-P3"
      },
      "source": [
        "# Actions made to data"
      ]
    },
    {
      "cell_type": "code",
      "execution_count": 7,
      "metadata": {},
      "outputs": [],
      "source": [
        "class Actions:\n",
        "    def __init__(self,data):\n",
        "        self.data=data        \n",
        "    def preprocess(self):\n",
        "        self.data.rename(columns={'WFH Setup Available': 'Remote','Resource Allocation':'Resource'}, inplace=True)\n",
        "        self.data.drop_duplicates(inplace=True)\n",
        "        self.data=self.data.drop('Employee ID',axis=1)\n",
        "        self.data=self.data.dropna()\n",
        "        return self.data\n",
        "    def encoding(self,data):\n",
        "        self.data=data\n",
        "        self.data['Gender'] = self.data['Gender'].replace({'Male': 1,'Female': 0})\n",
        "        self.data['Company Type'] = self.data['Company Type'].replace({'Service': 1, 'Product': 0})\n",
        "        self.data['Remote'] = self.data['Remote'].replace({'Yes': 1, 'No': 0})\n",
        "        return self.data"
      ]
    },
    {
      "cell_type": "markdown",
      "metadata": {
        "id": "NcWcMUNfvB1u"
      },
      "source": [
        "# Preprocessing\n",
        "**1. remove duplicates**\n",
        "\n",
        "**2. drop Employee ID**\n",
        "\n",
        "**3. rename columns**\n",
        "\n"
      ]
    },
    {
      "cell_type": "code",
      "execution_count": 8,
      "metadata": {
        "id": "AlPEL3JztBC5"
      },
      "outputs": [],
      "source": [
        "actions_to_train_data=Actions(train)\n",
        "actions_to_test_data=Actions(test)\n",
        "\n",
        "train=actions_to_train_data.preprocess()\n",
        "test=actions_to_test_data.preprocess()"
      ]
    },
    {
      "cell_type": "markdown",
      "metadata": {
        "id": "z75ZjALT3GGl"
      },
      "source": [
        "# Encoding\n",
        "# **Categorical data:**\n",
        "Date of Joining, Gender, Company Type, WFH Setup Available\n",
        "# **Numerical data:**\n",
        "Designation, Resource Allocation, Mental Fatigue Score, Burn Rate"
      ]
    },
    {
      "cell_type": "code",
      "execution_count": 10,
      "metadata": {
        "id": "a778ANYryKwI"
      },
      "outputs": [],
      "source": [
        "train=actions_to_train_data.encoding(train)\n",
        "test=actions_to_test_data.encoding(test)"
      ]
    },
    {
      "cell_type": "code",
      "execution_count": null,
      "metadata": {
        "colab": {
          "base_uri": "https://localhost:8080/"
        },
        "id": "543OWNJAMmII",
        "outputId": "d0505126-bc61-46b3-feba-b1127cf0ab2c"
      },
      "outputs": [
        {
          "name": "stdout",
          "output_type": "stream",
          "text": [
            "2008-01-01 \n",
            "2008-12-31\n"
          ]
        }
      ],
      "source": [
        "print(train['Date of Joining'].min(),'\\n'+str(train['Date of Joining'].max()))"
      ]
    },
    {
      "cell_type": "code",
      "execution_count": 11,
      "metadata": {
        "id": "q3OuyyFc3H-G"
      },
      "outputs": [],
      "source": [
        "#difference between the time employee arrived and the time of the survay which is 2020 kis 4 years\n",
        "date=np.ones((len(train['Date of Joining']),1))\n",
        "train['Work Period']=date*12"
      ]
    },
    {
      "cell_type": "code",
      "execution_count": 12,
      "metadata": {
        "id": "zwPr58JvMrUY"
      },
      "outputs": [],
      "source": [
        "#no need for the date of joining column any more\n",
        "train=train.drop('Date of Joining',axis=1)"
      ]
    },
    {
      "cell_type": "markdown",
      "metadata": {
        "id": "FyeUMsWydhFz"
      },
      "source": [
        "# **Training**"
      ]
    },
    {
      "cell_type": "code",
      "execution_count": 13,
      "metadata": {
        "id": "tgkzI-Uzf6GJ"
      },
      "outputs": [],
      "source": [
        "X=train.drop('Burn Rate',axis=1)\n",
        "Y=train['Burn Rate']"
      ]
    },
    {
      "cell_type": "code",
      "execution_count": 14,
      "metadata": {
        "id": "qdTlPxfg-bxN"
      },
      "outputs": [],
      "source": [
        "x_train,x_test,y_train,y_test=train_test_split(X,Y,test_size=0.2,random_state=42)"
      ]
    },
    {
      "cell_type": "markdown",
      "metadata": {},
      "source": [
        "**xgboost**"
      ]
    },
    {
      "cell_type": "code",
      "execution_count": 19,
      "metadata": {},
      "outputs": [
        {
          "name": "stderr",
          "output_type": "stream",
          "text": [
            "c:\\Users\\Windows.10\\AppData\\Local\\Programs\\Python\\Python312\\Lib\\site-packages\\xgboost\\core.py:160: UserWarning: [20:06:03] WARNING: C:\\buildkite-agent\\builds\\buildkite-windows-cpu-autoscaling-group-i-0b3782d1791676daf-1\\xgboost\\xgboost-ci-windows\\src\\learner.cc:742: \n",
            "Parameters: { \"feature_names\" } are not used.\n",
            "\n",
            "  warnings.warn(smsg, UserWarning)\n"
          ]
        },
        {
          "data": {
            "text/html": [
              "<style>#sk-container-id-1 {\n",
              "  /* Definition of color scheme common for light and dark mode */\n",
              "  --sklearn-color-text: black;\n",
              "  --sklearn-color-line: gray;\n",
              "  /* Definition of color scheme for unfitted estimators */\n",
              "  --sklearn-color-unfitted-level-0: #fff5e6;\n",
              "  --sklearn-color-unfitted-level-1: #f6e4d2;\n",
              "  --sklearn-color-unfitted-level-2: #ffe0b3;\n",
              "  --sklearn-color-unfitted-level-3: chocolate;\n",
              "  /* Definition of color scheme for fitted estimators */\n",
              "  --sklearn-color-fitted-level-0: #f0f8ff;\n",
              "  --sklearn-color-fitted-level-1: #d4ebff;\n",
              "  --sklearn-color-fitted-level-2: #b3dbfd;\n",
              "  --sklearn-color-fitted-level-3: cornflowerblue;\n",
              "\n",
              "  /* Specific color for light theme */\n",
              "  --sklearn-color-text-on-default-background: var(--sg-text-color, var(--theme-code-foreground, var(--jp-content-font-color1, black)));\n",
              "  --sklearn-color-background: var(--sg-background-color, var(--theme-background, var(--jp-layout-color0, white)));\n",
              "  --sklearn-color-border-box: var(--sg-text-color, var(--theme-code-foreground, var(--jp-content-font-color1, black)));\n",
              "  --sklearn-color-icon: #696969;\n",
              "\n",
              "  @media (prefers-color-scheme: dark) {\n",
              "    /* Redefinition of color scheme for dark theme */\n",
              "    --sklearn-color-text-on-default-background: var(--sg-text-color, var(--theme-code-foreground, var(--jp-content-font-color1, white)));\n",
              "    --sklearn-color-background: var(--sg-background-color, var(--theme-background, var(--jp-layout-color0, #111)));\n",
              "    --sklearn-color-border-box: var(--sg-text-color, var(--theme-code-foreground, var(--jp-content-font-color1, white)));\n",
              "    --sklearn-color-icon: #878787;\n",
              "  }\n",
              "}\n",
              "\n",
              "#sk-container-id-1 {\n",
              "  color: var(--sklearn-color-text);\n",
              "}\n",
              "\n",
              "#sk-container-id-1 pre {\n",
              "  padding: 0;\n",
              "}\n",
              "\n",
              "#sk-container-id-1 input.sk-hidden--visually {\n",
              "  border: 0;\n",
              "  clip: rect(1px 1px 1px 1px);\n",
              "  clip: rect(1px, 1px, 1px, 1px);\n",
              "  height: 1px;\n",
              "  margin: -1px;\n",
              "  overflow: hidden;\n",
              "  padding: 0;\n",
              "  position: absolute;\n",
              "  width: 1px;\n",
              "}\n",
              "\n",
              "#sk-container-id-1 div.sk-dashed-wrapped {\n",
              "  border: 1px dashed var(--sklearn-color-line);\n",
              "  margin: 0 0.4em 0.5em 0.4em;\n",
              "  box-sizing: border-box;\n",
              "  padding-bottom: 0.4em;\n",
              "  background-color: var(--sklearn-color-background);\n",
              "}\n",
              "\n",
              "#sk-container-id-1 div.sk-container {\n",
              "  /* jupyter's `normalize.less` sets `[hidden] { display: none; }`\n",
              "     but bootstrap.min.css set `[hidden] { display: none !important; }`\n",
              "     so we also need the `!important` here to be able to override the\n",
              "     default hidden behavior on the sphinx rendered scikit-learn.org.\n",
              "     See: https://github.com/scikit-learn/scikit-learn/issues/21755 */\n",
              "  display: inline-block !important;\n",
              "  position: relative;\n",
              "}\n",
              "\n",
              "#sk-container-id-1 div.sk-text-repr-fallback {\n",
              "  display: none;\n",
              "}\n",
              "\n",
              "div.sk-parallel-item,\n",
              "div.sk-serial,\n",
              "div.sk-item {\n",
              "  /* draw centered vertical line to link estimators */\n",
              "  background-image: linear-gradient(var(--sklearn-color-text-on-default-background), var(--sklearn-color-text-on-default-background));\n",
              "  background-size: 2px 100%;\n",
              "  background-repeat: no-repeat;\n",
              "  background-position: center center;\n",
              "}\n",
              "\n",
              "/* Parallel-specific style estimator block */\n",
              "\n",
              "#sk-container-id-1 div.sk-parallel-item::after {\n",
              "  content: \"\";\n",
              "  width: 100%;\n",
              "  border-bottom: 2px solid var(--sklearn-color-text-on-default-background);\n",
              "  flex-grow: 1;\n",
              "}\n",
              "\n",
              "#sk-container-id-1 div.sk-parallel {\n",
              "  display: flex;\n",
              "  align-items: stretch;\n",
              "  justify-content: center;\n",
              "  background-color: var(--sklearn-color-background);\n",
              "  position: relative;\n",
              "}\n",
              "\n",
              "#sk-container-id-1 div.sk-parallel-item {\n",
              "  display: flex;\n",
              "  flex-direction: column;\n",
              "}\n",
              "\n",
              "#sk-container-id-1 div.sk-parallel-item:first-child::after {\n",
              "  align-self: flex-end;\n",
              "  width: 50%;\n",
              "}\n",
              "\n",
              "#sk-container-id-1 div.sk-parallel-item:last-child::after {\n",
              "  align-self: flex-start;\n",
              "  width: 50%;\n",
              "}\n",
              "\n",
              "#sk-container-id-1 div.sk-parallel-item:only-child::after {\n",
              "  width: 0;\n",
              "}\n",
              "\n",
              "/* Serial-specific style estimator block */\n",
              "\n",
              "#sk-container-id-1 div.sk-serial {\n",
              "  display: flex;\n",
              "  flex-direction: column;\n",
              "  align-items: center;\n",
              "  background-color: var(--sklearn-color-background);\n",
              "  padding-right: 1em;\n",
              "  padding-left: 1em;\n",
              "}\n",
              "\n",
              "\n",
              "/* Toggleable style: style used for estimator/Pipeline/ColumnTransformer box that is\n",
              "clickable and can be expanded/collapsed.\n",
              "- Pipeline and ColumnTransformer use this feature and define the default style\n",
              "- Estimators will overwrite some part of the style using the `sk-estimator` class\n",
              "*/\n",
              "\n",
              "/* Pipeline and ColumnTransformer style (default) */\n",
              "\n",
              "#sk-container-id-1 div.sk-toggleable {\n",
              "  /* Default theme specific background. It is overwritten whether we have a\n",
              "  specific estimator or a Pipeline/ColumnTransformer */\n",
              "  background-color: var(--sklearn-color-background);\n",
              "}\n",
              "\n",
              "/* Toggleable label */\n",
              "#sk-container-id-1 label.sk-toggleable__label {\n",
              "  cursor: pointer;\n",
              "  display: block;\n",
              "  width: 100%;\n",
              "  margin-bottom: 0;\n",
              "  padding: 0.5em;\n",
              "  box-sizing: border-box;\n",
              "  text-align: center;\n",
              "}\n",
              "\n",
              "#sk-container-id-1 label.sk-toggleable__label-arrow:before {\n",
              "  /* Arrow on the left of the label */\n",
              "  content: \"▸\";\n",
              "  float: left;\n",
              "  margin-right: 0.25em;\n",
              "  color: var(--sklearn-color-icon);\n",
              "}\n",
              "\n",
              "#sk-container-id-1 label.sk-toggleable__label-arrow:hover:before {\n",
              "  color: var(--sklearn-color-text);\n",
              "}\n",
              "\n",
              "/* Toggleable content - dropdown */\n",
              "\n",
              "#sk-container-id-1 div.sk-toggleable__content {\n",
              "  max-height: 0;\n",
              "  max-width: 0;\n",
              "  overflow: hidden;\n",
              "  text-align: left;\n",
              "  /* unfitted */\n",
              "  background-color: var(--sklearn-color-unfitted-level-0);\n",
              "}\n",
              "\n",
              "#sk-container-id-1 div.sk-toggleable__content.fitted {\n",
              "  /* fitted */\n",
              "  background-color: var(--sklearn-color-fitted-level-0);\n",
              "}\n",
              "\n",
              "#sk-container-id-1 div.sk-toggleable__content pre {\n",
              "  margin: 0.2em;\n",
              "  border-radius: 0.25em;\n",
              "  color: var(--sklearn-color-text);\n",
              "  /* unfitted */\n",
              "  background-color: var(--sklearn-color-unfitted-level-0);\n",
              "}\n",
              "\n",
              "#sk-container-id-1 div.sk-toggleable__content.fitted pre {\n",
              "  /* unfitted */\n",
              "  background-color: var(--sklearn-color-fitted-level-0);\n",
              "}\n",
              "\n",
              "#sk-container-id-1 input.sk-toggleable__control:checked~div.sk-toggleable__content {\n",
              "  /* Expand drop-down */\n",
              "  max-height: 200px;\n",
              "  max-width: 100%;\n",
              "  overflow: auto;\n",
              "}\n",
              "\n",
              "#sk-container-id-1 input.sk-toggleable__control:checked~label.sk-toggleable__label-arrow:before {\n",
              "  content: \"▾\";\n",
              "}\n",
              "\n",
              "/* Pipeline/ColumnTransformer-specific style */\n",
              "\n",
              "#sk-container-id-1 div.sk-label input.sk-toggleable__control:checked~label.sk-toggleable__label {\n",
              "  color: var(--sklearn-color-text);\n",
              "  background-color: var(--sklearn-color-unfitted-level-2);\n",
              "}\n",
              "\n",
              "#sk-container-id-1 div.sk-label.fitted input.sk-toggleable__control:checked~label.sk-toggleable__label {\n",
              "  background-color: var(--sklearn-color-fitted-level-2);\n",
              "}\n",
              "\n",
              "/* Estimator-specific style */\n",
              "\n",
              "/* Colorize estimator box */\n",
              "#sk-container-id-1 div.sk-estimator input.sk-toggleable__control:checked~label.sk-toggleable__label {\n",
              "  /* unfitted */\n",
              "  background-color: var(--sklearn-color-unfitted-level-2);\n",
              "}\n",
              "\n",
              "#sk-container-id-1 div.sk-estimator.fitted input.sk-toggleable__control:checked~label.sk-toggleable__label {\n",
              "  /* fitted */\n",
              "  background-color: var(--sklearn-color-fitted-level-2);\n",
              "}\n",
              "\n",
              "#sk-container-id-1 div.sk-label label.sk-toggleable__label,\n",
              "#sk-container-id-1 div.sk-label label {\n",
              "  /* The background is the default theme color */\n",
              "  color: var(--sklearn-color-text-on-default-background);\n",
              "}\n",
              "\n",
              "/* On hover, darken the color of the background */\n",
              "#sk-container-id-1 div.sk-label:hover label.sk-toggleable__label {\n",
              "  color: var(--sklearn-color-text);\n",
              "  background-color: var(--sklearn-color-unfitted-level-2);\n",
              "}\n",
              "\n",
              "/* Label box, darken color on hover, fitted */\n",
              "#sk-container-id-1 div.sk-label.fitted:hover label.sk-toggleable__label.fitted {\n",
              "  color: var(--sklearn-color-text);\n",
              "  background-color: var(--sklearn-color-fitted-level-2);\n",
              "}\n",
              "\n",
              "/* Estimator label */\n",
              "\n",
              "#sk-container-id-1 div.sk-label label {\n",
              "  font-family: monospace;\n",
              "  font-weight: bold;\n",
              "  display: inline-block;\n",
              "  line-height: 1.2em;\n",
              "}\n",
              "\n",
              "#sk-container-id-1 div.sk-label-container {\n",
              "  text-align: center;\n",
              "}\n",
              "\n",
              "/* Estimator-specific */\n",
              "#sk-container-id-1 div.sk-estimator {\n",
              "  font-family: monospace;\n",
              "  border: 1px dotted var(--sklearn-color-border-box);\n",
              "  border-radius: 0.25em;\n",
              "  box-sizing: border-box;\n",
              "  margin-bottom: 0.5em;\n",
              "  /* unfitted */\n",
              "  background-color: var(--sklearn-color-unfitted-level-0);\n",
              "}\n",
              "\n",
              "#sk-container-id-1 div.sk-estimator.fitted {\n",
              "  /* fitted */\n",
              "  background-color: var(--sklearn-color-fitted-level-0);\n",
              "}\n",
              "\n",
              "/* on hover */\n",
              "#sk-container-id-1 div.sk-estimator:hover {\n",
              "  /* unfitted */\n",
              "  background-color: var(--sklearn-color-unfitted-level-2);\n",
              "}\n",
              "\n",
              "#sk-container-id-1 div.sk-estimator.fitted:hover {\n",
              "  /* fitted */\n",
              "  background-color: var(--sklearn-color-fitted-level-2);\n",
              "}\n",
              "\n",
              "/* Specification for estimator info (e.g. \"i\" and \"?\") */\n",
              "\n",
              "/* Common style for \"i\" and \"?\" */\n",
              "\n",
              ".sk-estimator-doc-link,\n",
              "a:link.sk-estimator-doc-link,\n",
              "a:visited.sk-estimator-doc-link {\n",
              "  float: right;\n",
              "  font-size: smaller;\n",
              "  line-height: 1em;\n",
              "  font-family: monospace;\n",
              "  background-color: var(--sklearn-color-background);\n",
              "  border-radius: 1em;\n",
              "  height: 1em;\n",
              "  width: 1em;\n",
              "  text-decoration: none !important;\n",
              "  margin-left: 1ex;\n",
              "  /* unfitted */\n",
              "  border: var(--sklearn-color-unfitted-level-1) 1pt solid;\n",
              "  color: var(--sklearn-color-unfitted-level-1);\n",
              "}\n",
              "\n",
              ".sk-estimator-doc-link.fitted,\n",
              "a:link.sk-estimator-doc-link.fitted,\n",
              "a:visited.sk-estimator-doc-link.fitted {\n",
              "  /* fitted */\n",
              "  border: var(--sklearn-color-fitted-level-1) 1pt solid;\n",
              "  color: var(--sklearn-color-fitted-level-1);\n",
              "}\n",
              "\n",
              "/* On hover */\n",
              "div.sk-estimator:hover .sk-estimator-doc-link:hover,\n",
              ".sk-estimator-doc-link:hover,\n",
              "div.sk-label-container:hover .sk-estimator-doc-link:hover,\n",
              ".sk-estimator-doc-link:hover {\n",
              "  /* unfitted */\n",
              "  background-color: var(--sklearn-color-unfitted-level-3);\n",
              "  color: var(--sklearn-color-background);\n",
              "  text-decoration: none;\n",
              "}\n",
              "\n",
              "div.sk-estimator.fitted:hover .sk-estimator-doc-link.fitted:hover,\n",
              ".sk-estimator-doc-link.fitted:hover,\n",
              "div.sk-label-container:hover .sk-estimator-doc-link.fitted:hover,\n",
              ".sk-estimator-doc-link.fitted:hover {\n",
              "  /* fitted */\n",
              "  background-color: var(--sklearn-color-fitted-level-3);\n",
              "  color: var(--sklearn-color-background);\n",
              "  text-decoration: none;\n",
              "}\n",
              "\n",
              "/* Span, style for the box shown on hovering the info icon */\n",
              ".sk-estimator-doc-link span {\n",
              "  display: none;\n",
              "  z-index: 9999;\n",
              "  position: relative;\n",
              "  font-weight: normal;\n",
              "  right: .2ex;\n",
              "  padding: .5ex;\n",
              "  margin: .5ex;\n",
              "  width: min-content;\n",
              "  min-width: 20ex;\n",
              "  max-width: 50ex;\n",
              "  color: var(--sklearn-color-text);\n",
              "  box-shadow: 2pt 2pt 4pt #999;\n",
              "  /* unfitted */\n",
              "  background: var(--sklearn-color-unfitted-level-0);\n",
              "  border: .5pt solid var(--sklearn-color-unfitted-level-3);\n",
              "}\n",
              "\n",
              ".sk-estimator-doc-link.fitted span {\n",
              "  /* fitted */\n",
              "  background: var(--sklearn-color-fitted-level-0);\n",
              "  border: var(--sklearn-color-fitted-level-3);\n",
              "}\n",
              "\n",
              ".sk-estimator-doc-link:hover span {\n",
              "  display: block;\n",
              "}\n",
              "\n",
              "/* \"?\"-specific style due to the `<a>` HTML tag */\n",
              "\n",
              "#sk-container-id-1 a.estimator_doc_link {\n",
              "  float: right;\n",
              "  font-size: 1rem;\n",
              "  line-height: 1em;\n",
              "  font-family: monospace;\n",
              "  background-color: var(--sklearn-color-background);\n",
              "  border-radius: 1rem;\n",
              "  height: 1rem;\n",
              "  width: 1rem;\n",
              "  text-decoration: none;\n",
              "  /* unfitted */\n",
              "  color: var(--sklearn-color-unfitted-level-1);\n",
              "  border: var(--sklearn-color-unfitted-level-1) 1pt solid;\n",
              "}\n",
              "\n",
              "#sk-container-id-1 a.estimator_doc_link.fitted {\n",
              "  /* fitted */\n",
              "  border: var(--sklearn-color-fitted-level-1) 1pt solid;\n",
              "  color: var(--sklearn-color-fitted-level-1);\n",
              "}\n",
              "\n",
              "/* On hover */\n",
              "#sk-container-id-1 a.estimator_doc_link:hover {\n",
              "  /* unfitted */\n",
              "  background-color: var(--sklearn-color-unfitted-level-3);\n",
              "  color: var(--sklearn-color-background);\n",
              "  text-decoration: none;\n",
              "}\n",
              "\n",
              "#sk-container-id-1 a.estimator_doc_link.fitted:hover {\n",
              "  /* fitted */\n",
              "  background-color: var(--sklearn-color-fitted-level-3);\n",
              "}\n",
              "</style><div id=\"sk-container-id-1\" class=\"sk-top-container\"><div class=\"sk-text-repr-fallback\"><pre>XGBRegressor(base_score=None, booster=None, callbacks=None,\n",
              "             colsample_bylevel=None, colsample_bynode=None,\n",
              "             colsample_bytree=None, device=None, early_stopping_rounds=None,\n",
              "             enable_categorical=False, eval_metric=None,\n",
              "             feature_names=[&#x27;Gender&#x27;, &#x27;Company Type&#x27;, &#x27;Remote&#x27;, &#x27;Designation&#x27;,\n",
              "                            &#x27;Resource&#x27;, &#x27;Mental Fatigue Score&#x27;, &#x27;Work Period&#x27;],\n",
              "             feature_types=None, gamma=None, grow_policy=None,\n",
              "             importance_type=None, interaction_constraints=None,\n",
              "             learning_rate=0.1, max_bin=None, max_cat_threshold=None,\n",
              "             max_cat_to_onehot=None, max_delta_step=None, max_depth=None,\n",
              "             max_leaves=None, min_child_weight=None, missing=nan,\n",
              "             monotone_constraints=None, multi_strategy=None, n_estimators=1000,\n",
              "             n_jobs=None, num_parallel_tree=None, ...)</pre><b>In a Jupyter environment, please rerun this cell to show the HTML representation or trust the notebook. <br />On GitHub, the HTML representation is unable to render, please try loading this page with nbviewer.org.</b></div><div class=\"sk-container\" hidden><div class=\"sk-item\"><div class=\"sk-estimator fitted sk-toggleable\"><input class=\"sk-toggleable__control sk-hidden--visually\" id=\"sk-estimator-id-1\" type=\"checkbox\" checked><label for=\"sk-estimator-id-1\" class=\"sk-toggleable__label fitted sk-toggleable__label-arrow fitted\">&nbsp;XGBRegressor<span class=\"sk-estimator-doc-link fitted\">i<span>Fitted</span></span></label><div class=\"sk-toggleable__content fitted\"><pre>XGBRegressor(base_score=None, booster=None, callbacks=None,\n",
              "             colsample_bylevel=None, colsample_bynode=None,\n",
              "             colsample_bytree=None, device=None, early_stopping_rounds=None,\n",
              "             enable_categorical=False, eval_metric=None,\n",
              "             feature_names=[&#x27;Gender&#x27;, &#x27;Company Type&#x27;, &#x27;Remote&#x27;, &#x27;Designation&#x27;,\n",
              "                            &#x27;Resource&#x27;, &#x27;Mental Fatigue Score&#x27;, &#x27;Work Period&#x27;],\n",
              "             feature_types=None, gamma=None, grow_policy=None,\n",
              "             importance_type=None, interaction_constraints=None,\n",
              "             learning_rate=0.1, max_bin=None, max_cat_threshold=None,\n",
              "             max_cat_to_onehot=None, max_delta_step=None, max_depth=None,\n",
              "             max_leaves=None, min_child_weight=None, missing=nan,\n",
              "             monotone_constraints=None, multi_strategy=None, n_estimators=1000,\n",
              "             n_jobs=None, num_parallel_tree=None, ...)</pre></div> </div></div></div></div>"
            ],
            "text/plain": [
              "XGBRegressor(base_score=None, booster=None, callbacks=None,\n",
              "             colsample_bylevel=None, colsample_bynode=None,\n",
              "             colsample_bytree=None, device=None, early_stopping_rounds=None,\n",
              "             enable_categorical=False, eval_metric=None,\n",
              "             feature_names=['Gender', 'Company Type', 'Remote', 'Designation',\n",
              "                            'Resource', 'Mental Fatigue Score', 'Work Period'],\n",
              "             feature_types=None, gamma=None, grow_policy=None,\n",
              "             importance_type=None, interaction_constraints=None,\n",
              "             learning_rate=0.1, max_bin=None, max_cat_threshold=None,\n",
              "             max_cat_to_onehot=None, max_delta_step=None, max_depth=None,\n",
              "             max_leaves=None, min_child_weight=None, missing=nan,\n",
              "             monotone_constraints=None, multi_strategy=None, n_estimators=1000,\n",
              "             n_jobs=None, num_parallel_tree=None, ...)"
            ]
          },
          "execution_count": 19,
          "metadata": {},
          "output_type": "execute_result"
        }
      ],
      "source": [
        "feature_names = ['Gender', 'Company Type', 'Remote', 'Designation', 'Resource', \n",
        "                 'Mental Fatigue Score', 'Work Period']\n",
        "\n",
        "\n",
        "xgboost_model=XGBRegressor(learning_rate=0.1, n_estimators=1000,feature_names=feature_names)\n",
        "xgboost_model.fit(x_train,y_train)"
      ]
    },
    {
      "cell_type": "markdown",
      "metadata": {},
      "source": [
        "**catboost**"
      ]
    },
    {
      "cell_type": "code",
      "execution_count": null,
      "metadata": {
        "id": "3JuK2bxEAOG2"
      },
      "outputs": [],
      "source": [
        "\n",
        "catboost_model = cb.CatBoostRegressor(iterations=200,\n",
        "            learning_rate=0.1,\n",
        "            depth=2)\n",
        "\n",
        "catboost_model.fit(x_train,y_train)"
      ]
    },
    {
      "cell_type": "markdown",
      "metadata": {},
      "source": [
        "**lightgbm**"
      ]
    },
    {
      "cell_type": "code",
      "execution_count": null,
      "metadata": {},
      "outputs": [],
      "source": [
        "lightgbm_model=LGBMRegressor(num_leaves=31,learning_rate=0.05,n_estimators=500)\n",
        "lightgbm_model.fit(x_train, y_train)"
      ]
    },
    {
      "cell_type": "markdown",
      "metadata": {
        "id": "lEKLPg1CGMYD"
      },
      "source": [
        "# **mean square error**"
      ]
    },
    {
      "cell_type": "markdown",
      "metadata": {},
      "source": [
        "# XGBoost"
      ]
    },
    {
      "cell_type": "code",
      "execution_count": 22,
      "metadata": {},
      "outputs": [
        {
          "data": {
            "text/plain": [
              "0.0029822811372870748"
            ]
          },
          "execution_count": 22,
          "metadata": {},
          "output_type": "execute_result"
        }
      ],
      "source": [
        "mean_squared_error(y_test, xgboost_model.predict(x_test))"
      ]
    },
    {
      "cell_type": "markdown",
      "metadata": {
        "id": "prcIXcEdGZhx"
      },
      "source": [
        "# catboost"
      ]
    },
    {
      "cell_type": "code",
      "execution_count": 17,
      "metadata": {
        "colab": {
          "base_uri": "https://localhost:8080/"
        },
        "id": "Q22ptL3_kIZ0",
        "outputId": "91b53674-054f-424b-e361-64a4bd2693df"
      },
      "outputs": [
        {
          "data": {
            "text/plain": [
              "0.0029095589725981726"
            ]
          },
          "execution_count": 17,
          "metadata": {},
          "output_type": "execute_result"
        }
      ],
      "source": [
        "mean_squared_error(y_test, catboost_model.predict(x_test))"
      ]
    },
    {
      "cell_type": "markdown",
      "metadata": {},
      "source": [
        "# LightGBM"
      ]
    },
    {
      "cell_type": "code",
      "execution_count": 23,
      "metadata": {},
      "outputs": [
        {
          "data": {
            "text/plain": [
              "0.002804352340351687"
            ]
          },
          "execution_count": 23,
          "metadata": {},
          "output_type": "execute_result"
        }
      ],
      "source": [
        "mean_squared_error(y_test, lightgbm_model.predict(x_test))"
      ]
    },
    {
      "cell_type": "markdown",
      "metadata": {
        "id": "2rHFqz1ozaga"
      },
      "source": [
        "# Save model"
      ]
    },
    {
      "cell_type": "code",
      "execution_count": 19,
      "metadata": {
        "id": "w6bF6YL3XuhE"
      },
      "outputs": [],
      "source": [
        "pickle.dump(catboost_model , open('burn-out-model.pk1' , 'wb'))"
      ]
    },
    {
      "cell_type": "code",
      "execution_count": 21,
      "metadata": {
        "id": "7OE21od90gbS"
      },
      "outputs": [],
      "source": [
        "model = pickle.load(open('burn-out-model.pk1' , 'rb'))"
      ]
    },
    {
      "cell_type": "markdown",
      "metadata": {
        "id": "QNPZhulm4SUH"
      },
      "source": [
        "# Burn out rate prediction"
      ]
    },
    {
      "cell_type": "code",
      "execution_count": 43,
      "metadata": {},
      "outputs": [
        {
          "data": {
            "text/plain": [
              "Gender                   1.0\n",
              "Company Type             1.0\n",
              "Remote                   1.0\n",
              "Designation              1.0\n",
              "Resource                 2.0\n",
              "Mental Fatigue Score     3.9\n",
              "Work Period             12.0\n",
              "Name: 8815, dtype: float64"
            ]
          },
          "execution_count": 43,
          "metadata": {},
          "output_type": "execute_result"
        }
      ],
      "source": [
        "x_test.iloc[0]"
      ]
    },
    {
      "cell_type": "code",
      "execution_count": 84,
      "metadata": {
        "colab": {
          "base_uri": "https://localhost:8080/",
          "height": 81
        },
        "id": "xqYd7EVS48AA",
        "outputId": "12ef3220-c3d1-4c27-a355-5577f4bb330f"
      },
      "outputs": [
        {
          "name": "stderr",
          "output_type": "stream",
          "text": [
            "c:\\Users\\Windows.10\\AppData\\Local\\Programs\\Python\\Python312\\Lib\\site-packages\\sklearn\\base.py:493: UserWarning: X does not have valid feature names, but RandomForestRegressor was fitted with feature names\n",
            "  warnings.warn(\n"
          ]
        }
      ],
      "source": [
        "pred=randomforest_model.predict([x_test.iloc[0]])"
      ]
    },
    {
      "cell_type": "code",
      "execution_count": 85,
      "metadata": {
        "colab": {
          "base_uri": "https://localhost:8080/"
        },
        "id": "i6Yabslp4WZa",
        "outputId": "cf015081-ce83-4286-aa04-a0136d9d7d6a"
      },
      "outputs": [
        {
          "name": "stdout",
          "output_type": "stream",
          "text": [
            "employee 8815 predicted burn out rate is 32.32 %\n"
          ]
        }
      ],
      "source": [
        "print('employee',8815,'predicted burn out rate is',round(pred[0]*100,2),'%')"
      ]
    },
    {
      "cell_type": "code",
      "execution_count": 87,
      "metadata": {},
      "outputs": [
        {
          "name": "stdout",
          "output_type": "stream",
          "text": [
            "employee 8815 actual burn out rate is 18.0 %\n"
          ]
        }
      ],
      "source": [
        "print('employee',8815,'actual burn out rate is',round(y_test.iloc[0]*100,2),'%')"
      ]
    },
    {
      "cell_type": "markdown",
      "metadata": {
        "id": "OgQ-dPMFbyxn"
      },
      "source": [
        "# Test the insights"
      ]
    },
    {
      "cell_type": "code",
      "execution_count": null,
      "metadata": {
        "colab": {
          "base_uri": "https://localhost:8080/"
        },
        "id": "jmCtGRnAejao",
        "outputId": "3f19d173-4ba5-49c8-95bd-ab8dd38dbdc2"
      },
      "outputs": [
        {
          "data": {
            "text/plain": [
              "Resource\n",
              "4.0     3396\n",
              "5.0     3364\n",
              "3.0     2761\n",
              "6.0     2590\n",
              "2.0     1794\n",
              "7.0     1697\n",
              "1.0     1551\n",
              "8.0      907\n",
              "9.0      396\n",
              "10.0     134\n",
              "Name: count, dtype: int64"
            ]
          },
          "execution_count": 163,
          "metadata": {},
          "output_type": "execute_result"
        }
      ],
      "source": [
        "train['Resource'].value_counts()"
      ]
    },
    {
      "cell_type": "code",
      "execution_count": null,
      "metadata": {
        "colab": {
          "base_uri": "https://localhost:8080/"
        },
        "id": "8eE8duRu7ecc",
        "outputId": "19f78e92-cee6-4b6f-e546-f0f0d07999f3"
      },
      "outputs": [
        {
          "name": "stdout",
          "output_type": "stream",
          "text": [
            "Burn out rate is: 72.6 %\n"
          ]
        }
      ],
      "source": [
        "'''an employee:\n",
        "1. is a male=1\n",
        "2. the Company Type is service=1\n",
        "3. work is not remote=0\n",
        "4. Designation is high=4.0\n",
        "5. have high resource=8\n",
        "6. Mental Fatigue Score =8.0'''\n",
        "gender=1\n",
        "company_type=1\n",
        "remote=0\n",
        "designation=4.0\n",
        "resource=8\n",
        "mental_fatigue_score=8.0\n",
        "work_period=4.0\n",
        "\n",
        "data=[gender,company_type,remote,designation,resource,mental_fatigue_score,work_period]\n",
        "print('Burn out rate is:',round(model.predict(data)*100,2),'%')"
      ]
    },
    {
      "cell_type": "code",
      "execution_count": null,
      "metadata": {
        "colab": {
          "base_uri": "https://localhost:8080/"
        },
        "id": "BzycpCMkfeNB",
        "outputId": "98c49a8e-c6fd-402e-a86a-e7e7a5001bf4"
      },
      "outputs": [
        {
          "name": "stdout",
          "output_type": "stream",
          "text": [
            "Burn out rate is: 72.47 %\n"
          ]
        }
      ],
      "source": [
        "#for a female\n",
        "data=[0,1,0,4.0,8.0,8.0,4.0]\n",
        "print('Burn out rate is:',round(model.predict(data)*100,2),'%')"
      ]
    },
    {
      "cell_type": "code",
      "execution_count": null,
      "metadata": {
        "colab": {
          "base_uri": "https://localhost:8080/"
        },
        "id": "Q1T7fUk9fk3x",
        "outputId": "e4423eb0-4a07-4f60-c8ca-c38f8d4c9fd2"
      },
      "outputs": [
        {
          "name": "stdout",
          "output_type": "stream",
          "text": [
            "Burn out rate is: 70.43 %\n"
          ]
        }
      ],
      "source": [
        "#remote work\n",
        "data=[1,1,1,4.0,8.0,8.0,4.0]\n",
        "print('Burn out rate is:',round(model.predict(data)*100,2),'%')"
      ]
    },
    {
      "cell_type": "code",
      "execution_count": null,
      "metadata": {
        "colab": {
          "base_uri": "https://localhost:8080/"
        },
        "id": "4meqZHd7f3nI",
        "outputId": "aec9777f-6b1f-48bd-cf72-da5aaa438683"
      },
      "outputs": [
        {
          "name": "stdout",
          "output_type": "stream",
          "text": [
            "Burn out rate is: 77.47 %\n"
          ]
        }
      ],
      "source": [
        "#remote work , designation low, resource high\n",
        "data=[1,1,1,2.0,8.0,8.0,4.0]\n",
        "print('Burn out rate is:',round(model.predict(data)*100,2),'%')"
      ]
    },
    {
      "cell_type": "code",
      "execution_count": null,
      "metadata": {
        "colab": {
          "base_uri": "https://localhost:8080/"
        },
        "id": "wuBZvaeugb4l",
        "outputId": "8bbb92ab-d6c7-4279-92b4-7c8bdfff7878"
      },
      "outputs": [
        {
          "name": "stdout",
          "output_type": "stream",
          "text": [
            "Burn out rate is: 76.75 %\n"
          ]
        }
      ],
      "source": [
        "#female, remote work , designation low, resource high\n",
        "data=[0,1,1,2.0,8.0,8.0,4.0]\n",
        "print('Burn out rate is:',round(model.predict(data)*100,2),'%')"
      ]
    },
    {
      "cell_type": "code",
      "execution_count": null,
      "metadata": {
        "colab": {
          "base_uri": "https://localhost:8080/"
        },
        "id": "YsQj_CThggUo",
        "outputId": "5dfdc61e-2bd9-45ce-9f60-eb8600d02c3d"
      },
      "outputs": [
        {
          "name": "stdout",
          "output_type": "stream",
          "text": [
            "Burn out rate is: 48.07 %\n"
          ]
        }
      ],
      "source": [
        "#female, remote work , designation low, resource low\n",
        "data=[0,1,1,2.0,2.0,8.0,4.0]\n",
        "print('Burn out rate is:',round(model.predict(data)*100,2),'%')"
      ]
    },
    {
      "cell_type": "code",
      "execution_count": null,
      "metadata": {
        "colab": {
          "base_uri": "https://localhost:8080/"
        },
        "id": "uO0rPsR-wjmu",
        "outputId": "27af755a-702f-4a2c-b4ef-aef857f919bd"
      },
      "outputs": [
        {
          "name": "stdout",
          "output_type": "stream",
          "text": [
            "Burn out rate is: 12.91 %\n"
          ]
        }
      ],
      "source": [
        "#female, remote work , designation low, resource low,low mental fatigue\n",
        "data=[0,1,1,2.0,2.0,2.0,4.0]\n",
        "print('Burn out rate is:',round(model.predict(data)*100,2),'%')"
      ]
    },
    {
      "cell_type": "code",
      "execution_count": null,
      "metadata": {
        "colab": {
          "base_uri": "https://localhost:8080/"
        },
        "id": "_3B-0HGn1Mzg",
        "outputId": "3538d999-1735-407a-e300-191960c5b9b6"
      },
      "outputs": [
        {
          "name": "stdout",
          "output_type": "stream",
          "text": [
            "Burn out rate is: 3.31 %\n"
          ]
        }
      ],
      "source": [
        "#female, remote work , designation low, resource low\n",
        "data=[0,1,1,1.0,1.0,1.0,4.0]\n",
        "print('Burn out rate is:',round(model.predict(data)*100,2),'%')"
      ]
    },
    {
      "cell_type": "code",
      "execution_count": null,
      "metadata": {
        "id": "hZduIHUj9crP"
      },
      "outputs": [],
      "source": [
        "test_data=np.array([[1,1,0,4.0,8,8.0,4.0],[0,1,0,4.0,8.0,8.0,4.0],[1,1,1,4.0,8.0,8.0,4.0],\n",
        "  [1,1,1,2.0,8.0,8.0,4.0],[0,1,1,2.0,8.0,8.0,4.0],[0,1,1,2.0,2.0,8.0,4.0],\n",
        "  [0,1,1,2.0,2.0,2.0,4.0],[0,1,1,1.0,1.0,1.0,4.0]])"
      ]
    },
    {
      "cell_type": "code",
      "execution_count": null,
      "metadata": {
        "id": "0Ao3UQ1p-kHw"
      },
      "outputs": [],
      "source": [
        "test=pd.DataFrame(test_data,columns=['Gender','Company Type','Remote','Designation','Resource','Mental Fatigue Score','Work Period'])"
      ]
    },
    {
      "cell_type": "code",
      "execution_count": null,
      "metadata": {
        "collapsed": true,
        "id": "SXwTGAj_1WTz"
      },
      "outputs": [],
      "source": [
        "predictions=model.predict(test)"
      ]
    },
    {
      "cell_type": "code",
      "execution_count": null,
      "metadata": {
        "id": "sWiQu-CwAUrW"
      },
      "outputs": [],
      "source": [
        "test['predictions']=predictions*100"
      ]
    },
    {
      "cell_type": "code",
      "execution_count": null,
      "metadata": {
        "colab": {
          "base_uri": "https://localhost:8080/",
          "height": 300
        },
        "id": "Ys-nOOeOBvMA",
        "outputId": "89570d1c-62e1-4b0e-ae1f-9f5f11c5aa0a"
      },
      "outputs": [
        {
          "name": "stderr",
          "output_type": "stream",
          "text": [
            "c:\\Users\\Windows.10\\AppData\\Local\\Programs\\Python\\Python312\\Lib\\site-packages\\IPython\\core\\formatters.py:347: FutureWarning: Index.format is deprecated and will be removed in a future version. Convert using index.astype(str) or index.map(formatter) instead.\n",
            "  return method()\n",
            "c:\\Users\\Windows.10\\AppData\\Local\\Programs\\Python\\Python312\\Lib\\site-packages\\IPython\\core\\formatters.py:347: FutureWarning: RangeIndex.format is deprecated and will be removed in a future version. Convert using index.astype(str) or index.map(formatter) instead.\n",
            "  return method()\n"
          ]
        },
        {
          "data": {
            "text/html": [
              "<div>\n",
              "<style scoped>\n",
              "    .dataframe tbody tr th:only-of-type {\n",
              "        vertical-align: middle;\n",
              "    }\n",
              "\n",
              "    .dataframe tbody tr th {\n",
              "        vertical-align: top;\n",
              "    }\n",
              "\n",
              "    .dataframe thead th {\n",
              "        text-align: right;\n",
              "    }\n",
              "</style>\n",
              "<table border=\"1\" class=\"dataframe\">\n",
              "  <thead>\n",
              "    <tr style=\"text-align: right;\">\n",
              "      <th></th>\n",
              "      <th>Gender</th>\n",
              "      <th>Company Type</th>\n",
              "      <th>Remote</th>\n",
              "      <th>Designation</th>\n",
              "      <th>Resource</th>\n",
              "      <th>Mental Fatigue Score</th>\n",
              "      <th>Work Period</th>\n",
              "      <th>predictions</th>\n",
              "    </tr>\n",
              "  </thead>\n",
              "  <tbody>\n",
              "    <tr>\n",
              "      <th>0</th>\n",
              "      <td>1.0</td>\n",
              "      <td>1.0</td>\n",
              "      <td>0.0</td>\n",
              "      <td>4.0</td>\n",
              "      <td>8.0</td>\n",
              "      <td>8.0</td>\n",
              "      <td>4.0</td>\n",
              "      <td>72.603221</td>\n",
              "    </tr>\n",
              "    <tr>\n",
              "      <th>1</th>\n",
              "      <td>0.0</td>\n",
              "      <td>1.0</td>\n",
              "      <td>0.0</td>\n",
              "      <td>4.0</td>\n",
              "      <td>8.0</td>\n",
              "      <td>8.0</td>\n",
              "      <td>4.0</td>\n",
              "      <td>72.471930</td>\n",
              "    </tr>\n",
              "    <tr>\n",
              "      <th>2</th>\n",
              "      <td>1.0</td>\n",
              "      <td>1.0</td>\n",
              "      <td>1.0</td>\n",
              "      <td>4.0</td>\n",
              "      <td>8.0</td>\n",
              "      <td>8.0</td>\n",
              "      <td>4.0</td>\n",
              "      <td>70.432557</td>\n",
              "    </tr>\n",
              "    <tr>\n",
              "      <th>3</th>\n",
              "      <td>1.0</td>\n",
              "      <td>1.0</td>\n",
              "      <td>1.0</td>\n",
              "      <td>2.0</td>\n",
              "      <td>8.0</td>\n",
              "      <td>8.0</td>\n",
              "      <td>4.0</td>\n",
              "      <td>77.472639</td>\n",
              "    </tr>\n",
              "    <tr>\n",
              "      <th>4</th>\n",
              "      <td>0.0</td>\n",
              "      <td>1.0</td>\n",
              "      <td>1.0</td>\n",
              "      <td>2.0</td>\n",
              "      <td>8.0</td>\n",
              "      <td>8.0</td>\n",
              "      <td>4.0</td>\n",
              "      <td>76.748176</td>\n",
              "    </tr>\n",
              "    <tr>\n",
              "      <th>5</th>\n",
              "      <td>0.0</td>\n",
              "      <td>1.0</td>\n",
              "      <td>1.0</td>\n",
              "      <td>2.0</td>\n",
              "      <td>2.0</td>\n",
              "      <td>8.0</td>\n",
              "      <td>4.0</td>\n",
              "      <td>48.071661</td>\n",
              "    </tr>\n",
              "    <tr>\n",
              "      <th>6</th>\n",
              "      <td>0.0</td>\n",
              "      <td>1.0</td>\n",
              "      <td>1.0</td>\n",
              "      <td>2.0</td>\n",
              "      <td>2.0</td>\n",
              "      <td>2.0</td>\n",
              "      <td>4.0</td>\n",
              "      <td>12.909549</td>\n",
              "    </tr>\n",
              "    <tr>\n",
              "      <th>7</th>\n",
              "      <td>0.0</td>\n",
              "      <td>1.0</td>\n",
              "      <td>1.0</td>\n",
              "      <td>1.0</td>\n",
              "      <td>1.0</td>\n",
              "      <td>1.0</td>\n",
              "      <td>4.0</td>\n",
              "      <td>3.313869</td>\n",
              "    </tr>\n",
              "  </tbody>\n",
              "</table>\n",
              "</div>"
            ],
            "text/plain": [
              "   Gender  Company Type  Remote  Designation  Resource  Mental Fatigue Score  \\\n",
              "0     1.0           1.0     0.0          4.0       8.0                   8.0   \n",
              "1     0.0           1.0     0.0          4.0       8.0                   8.0   \n",
              "2     1.0           1.0     1.0          4.0       8.0                   8.0   \n",
              "3     1.0           1.0     1.0          2.0       8.0                   8.0   \n",
              "4     0.0           1.0     1.0          2.0       8.0                   8.0   \n",
              "5     0.0           1.0     1.0          2.0       2.0                   8.0   \n",
              "6     0.0           1.0     1.0          2.0       2.0                   2.0   \n",
              "7     0.0           1.0     1.0          1.0       1.0                   1.0   \n",
              "\n",
              "   Work Period  predictions  \n",
              "0          4.0    72.603221  \n",
              "1          4.0    72.471930  \n",
              "2          4.0    70.432557  \n",
              "3          4.0    77.472639  \n",
              "4          4.0    76.748176  \n",
              "5          4.0    48.071661  \n",
              "6          4.0    12.909549  \n",
              "7          4.0     3.313869  "
            ]
          },
          "execution_count": 176,
          "metadata": {},
          "output_type": "execute_result"
        }
      ],
      "source": [
        "test.head(8)"
      ]
    },
    {
      "cell_type": "markdown",
      "metadata": {},
      "source": [
        "# MLflow"
      ]
    },
    {
      "cell_type": "code",
      "execution_count": 15,
      "metadata": {},
      "outputs": [],
      "source": [
        "def calculate_rmse(actual_values, predicted_values):\n",
        "    \"\"\"\n",
        "    Calculate the Root Mean Square Error (RMSE) between actual_values and predicted_values.\n",
        "    \n",
        "    Parameters:\n",
        "    - actual_values: Array-like object containing the actual values.\n",
        "    - predicted_values: Array-like object containing the predicted values.\n",
        "    \n",
        "    Returns:\n",
        "    - rmse: The Root Mean Square Error as a float.\n",
        "    \"\"\"\n",
        "    # Ensure inputs are NumPy arrays\n",
        "    actual_values = np.array(actual_values)\n",
        "    predicted_values = np.array(predicted_values)\n",
        "    \n",
        "    # Calculate the difference between actual and predicted values\n",
        "    differences = actual_values - predicted_values\n",
        "    \n",
        "    # Square the differences\n",
        "    squared_differences = differences ** 2\n",
        "    \n",
        "    # Calculate the mean of the squared differences\n",
        "    mean_squared_difference = np.mean(squared_differences)\n",
        "    \n",
        "    # Take the square root of the mean squared difference to get RMSE\n",
        "    rmse = np.sqrt(mean_squared_difference)\n",
        "    \n",
        "    return rmse"
      ]
    },
    {
      "cell_type": "code",
      "execution_count": 25,
      "metadata": {
        "id": "Q82t0NHGFlB6"
      },
      "outputs": [
        {
          "name": "stderr",
          "output_type": "stream",
          "text": [
            "c:\\Users\\Windows.10\\AppData\\Local\\Programs\\Python\\Python312\\Lib\\site-packages\\mlflow\\types\\utils.py:394: UserWarning: Hint: Inferred schema contains integer column(s). Integer columns in Python cannot represent missing values. If your input data contains missing values at inference time, it will be encoded as floats and will cause a schema enforcement error. The best way to avoid this problem is to infer the model schema based on a realistic data sample (training dataset) that includes missing values. Alternatively, you can declare integer columns as doubles (float64) whenever these columns may have missing values. See `Handling Integers With Missing Values <https://www.mlflow.org/docs/latest/models.html#handling-integers-with-missing-values>`_ for more details.\n",
            "  warnings.warn(\n"
          ]
        },
        {
          "name": "stdout",
          "output_type": "stream",
          "text": [
            "0:\tlearn: 0.1846865\ttotal: 4.65ms\tremaining: 926ms\n",
            "1:\tlearn: 0.1724098\ttotal: 7.17ms\tremaining: 710ms\n",
            "2:\tlearn: 0.1609908\ttotal: 9.28ms\tremaining: 609ms\n",
            "3:\tlearn: 0.1511941\ttotal: 14.9ms\tremaining: 728ms\n",
            "4:\tlearn: 0.1417847\ttotal: 19.3ms\tremaining: 753ms\n",
            "5:\tlearn: 0.1331957\ttotal: 23.9ms\tremaining: 773ms\n",
            "6:\tlearn: 0.1262241\ttotal: 29.8ms\tremaining: 821ms\n",
            "7:\tlearn: 0.1190350\ttotal: 34.5ms\tremaining: 827ms\n",
            "8:\tlearn: 0.1128067\ttotal: 64.4ms\tremaining: 1.37s\n",
            "9:\tlearn: 0.1076561\ttotal: 68.9ms\tremaining: 1.31s\n",
            "10:\tlearn: 0.1023663\ttotal: 73.8ms\tremaining: 1.27s\n",
            "11:\tlearn: 0.0976709\ttotal: 80.5ms\tremaining: 1.26s\n",
            "12:\tlearn: 0.0932804\ttotal: 85.3ms\tremaining: 1.23s\n",
            "13:\tlearn: 0.0895690\ttotal: 89.7ms\tremaining: 1.19s\n",
            "14:\tlearn: 0.0861403\ttotal: 96.8ms\tremaining: 1.19s\n",
            "15:\tlearn: 0.0832705\ttotal: 121ms\tremaining: 1.39s\n",
            "16:\tlearn: 0.0802041\ttotal: 127ms\tremaining: 1.37s\n",
            "17:\tlearn: 0.0775330\ttotal: 159ms\tremaining: 1.6s\n",
            "18:\tlearn: 0.0750922\ttotal: 162ms\tremaining: 1.54s\n",
            "19:\tlearn: 0.0730637\ttotal: 165ms\tremaining: 1.48s\n",
            "20:\tlearn: 0.0711898\ttotal: 169ms\tremaining: 1.44s\n",
            "21:\tlearn: 0.0695816\ttotal: 174ms\tremaining: 1.41s\n",
            "22:\tlearn: 0.0679800\ttotal: 180ms\tremaining: 1.39s\n",
            "23:\tlearn: 0.0665901\ttotal: 184ms\tremaining: 1.35s\n",
            "24:\tlearn: 0.0653759\ttotal: 194ms\tremaining: 1.36s\n",
            "25:\tlearn: 0.0643271\ttotal: 200ms\tremaining: 1.33s\n",
            "26:\tlearn: 0.0633870\ttotal: 206ms\tremaining: 1.32s\n",
            "27:\tlearn: 0.0624202\ttotal: 211ms\tremaining: 1.29s\n",
            "28:\tlearn: 0.0616230\ttotal: 216ms\tremaining: 1.27s\n",
            "29:\tlearn: 0.0609150\ttotal: 223ms\tremaining: 1.26s\n",
            "30:\tlearn: 0.0603115\ttotal: 228ms\tremaining: 1.24s\n",
            "31:\tlearn: 0.0597440\ttotal: 231ms\tremaining: 1.21s\n",
            "32:\tlearn: 0.0592820\ttotal: 234ms\tremaining: 1.18s\n",
            "33:\tlearn: 0.0588441\ttotal: 238ms\tremaining: 1.16s\n",
            "34:\tlearn: 0.0584315\ttotal: 241ms\tremaining: 1.14s\n",
            "35:\tlearn: 0.0581156\ttotal: 244ms\tremaining: 1.11s\n",
            "36:\tlearn: 0.0577898\ttotal: 246ms\tremaining: 1.08s\n",
            "37:\tlearn: 0.0574708\ttotal: 249ms\tremaining: 1.06s\n",
            "38:\tlearn: 0.0572163\ttotal: 253ms\tremaining: 1.04s\n",
            "39:\tlearn: 0.0569894\ttotal: 256ms\tremaining: 1.02s\n",
            "40:\tlearn: 0.0567864\ttotal: 262ms\tremaining: 1.01s\n",
            "41:\tlearn: 0.0565806\ttotal: 282ms\tremaining: 1.06s\n",
            "42:\tlearn: 0.0564237\ttotal: 291ms\tremaining: 1.06s\n",
            "43:\tlearn: 0.0562492\ttotal: 294ms\tremaining: 1.04s\n",
            "44:\tlearn: 0.0561093\ttotal: 297ms\tremaining: 1.02s\n",
            "45:\tlearn: 0.0559876\ttotal: 305ms\tremaining: 1.02s\n",
            "46:\tlearn: 0.0558575\ttotal: 308ms\tremaining: 1s\n",
            "47:\tlearn: 0.0557359\ttotal: 310ms\tremaining: 982ms\n",
            "48:\tlearn: 0.0556382\ttotal: 313ms\tremaining: 965ms\n",
            "49:\tlearn: 0.0555665\ttotal: 318ms\tremaining: 953ms\n",
            "50:\tlearn: 0.0555031\ttotal: 320ms\tremaining: 936ms\n",
            "51:\tlearn: 0.0554285\ttotal: 323ms\tremaining: 918ms\n",
            "52:\tlearn: 0.0553536\ttotal: 325ms\tremaining: 902ms\n",
            "53:\tlearn: 0.0552922\ttotal: 328ms\tremaining: 887ms\n",
            "54:\tlearn: 0.0552333\ttotal: 332ms\tremaining: 876ms\n",
            "55:\tlearn: 0.0551851\ttotal: 335ms\tremaining: 863ms\n",
            "56:\tlearn: 0.0551345\ttotal: 339ms\tremaining: 851ms\n",
            "57:\tlearn: 0.0550975\ttotal: 344ms\tremaining: 842ms\n",
            "58:\tlearn: 0.0550560\ttotal: 349ms\tremaining: 834ms\n",
            "59:\tlearn: 0.0550220\ttotal: 352ms\tremaining: 820ms\n",
            "60:\tlearn: 0.0549881\ttotal: 355ms\tremaining: 808ms\n",
            "61:\tlearn: 0.0549609\ttotal: 357ms\tremaining: 796ms\n",
            "62:\tlearn: 0.0549306\ttotal: 360ms\tremaining: 784ms\n",
            "63:\tlearn: 0.0549057\ttotal: 365ms\tremaining: 777ms\n",
            "64:\tlearn: 0.0548854\ttotal: 368ms\tremaining: 764ms\n",
            "65:\tlearn: 0.0548662\ttotal: 371ms\tremaining: 753ms\n",
            "66:\tlearn: 0.0548459\ttotal: 374ms\tremaining: 742ms\n",
            "67:\tlearn: 0.0548251\ttotal: 376ms\tremaining: 730ms\n",
            "68:\tlearn: 0.0548089\ttotal: 381ms\tremaining: 723ms\n",
            "69:\tlearn: 0.0547912\ttotal: 384ms\tremaining: 712ms\n",
            "70:\tlearn: 0.0547701\ttotal: 386ms\tremaining: 702ms\n",
            "71:\tlearn: 0.0547505\ttotal: 389ms\tremaining: 692ms\n",
            "72:\tlearn: 0.0547374\ttotal: 391ms\tremaining: 680ms\n",
            "73:\tlearn: 0.0547225\ttotal: 395ms\tremaining: 672ms\n",
            "74:\tlearn: 0.0547070\ttotal: 397ms\tremaining: 662ms\n",
            "75:\tlearn: 0.0546939\ttotal: 400ms\tremaining: 652ms\n",
            "76:\tlearn: 0.0546801\ttotal: 403ms\tremaining: 643ms\n",
            "77:\tlearn: 0.0546695\ttotal: 405ms\tremaining: 633ms\n",
            "78:\tlearn: 0.0546593\ttotal: 407ms\tremaining: 623ms\n",
            "79:\tlearn: 0.0546520\ttotal: 410ms\tremaining: 616ms\n",
            "80:\tlearn: 0.0546382\ttotal: 412ms\tremaining: 606ms\n",
            "81:\tlearn: 0.0546280\ttotal: 414ms\tremaining: 596ms\n",
            "82:\tlearn: 0.0546206\ttotal: 418ms\tremaining: 590ms\n",
            "83:\tlearn: 0.0546149\ttotal: 420ms\tremaining: 581ms\n",
            "84:\tlearn: 0.0546062\ttotal: 423ms\tremaining: 572ms\n",
            "85:\tlearn: 0.0546006\ttotal: 426ms\tremaining: 565ms\n",
            "86:\tlearn: 0.0545948\ttotal: 428ms\tremaining: 556ms\n",
            "87:\tlearn: 0.0545879\ttotal: 431ms\tremaining: 549ms\n",
            "88:\tlearn: 0.0545809\ttotal: 434ms\tremaining: 542ms\n",
            "89:\tlearn: 0.0545725\ttotal: 437ms\tremaining: 534ms\n",
            "90:\tlearn: 0.0545683\ttotal: 440ms\tremaining: 528ms\n",
            "91:\tlearn: 0.0545620\ttotal: 443ms\tremaining: 520ms\n",
            "92:\tlearn: 0.0545526\ttotal: 448ms\tremaining: 516ms\n",
            "93:\tlearn: 0.0545404\ttotal: 451ms\tremaining: 509ms\n",
            "94:\tlearn: 0.0545361\ttotal: 453ms\tremaining: 501ms\n",
            "95:\tlearn: 0.0545328\ttotal: 456ms\tremaining: 494ms\n",
            "96:\tlearn: 0.0545288\ttotal: 460ms\tremaining: 489ms\n",
            "97:\tlearn: 0.0545205\ttotal: 462ms\tremaining: 481ms\n",
            "98:\tlearn: 0.0545113\ttotal: 465ms\tremaining: 474ms\n",
            "99:\tlearn: 0.0545053\ttotal: 466ms\tremaining: 466ms\n",
            "100:\tlearn: 0.0544992\ttotal: 469ms\tremaining: 459ms\n",
            "101:\tlearn: 0.0544960\ttotal: 472ms\tremaining: 454ms\n",
            "102:\tlearn: 0.0544923\ttotal: 474ms\tremaining: 447ms\n",
            "103:\tlearn: 0.0544882\ttotal: 476ms\tremaining: 440ms\n",
            "104:\tlearn: 0.0544739\ttotal: 478ms\tremaining: 433ms\n",
            "105:\tlearn: 0.0544608\ttotal: 481ms\tremaining: 426ms\n",
            "106:\tlearn: 0.0544536\ttotal: 483ms\tremaining: 420ms\n",
            "107:\tlearn: 0.0544508\ttotal: 487ms\tremaining: 415ms\n",
            "108:\tlearn: 0.0544381\ttotal: 489ms\tremaining: 408ms\n",
            "109:\tlearn: 0.0544265\ttotal: 491ms\tremaining: 402ms\n",
            "110:\tlearn: 0.0544234\ttotal: 493ms\tremaining: 396ms\n",
            "111:\tlearn: 0.0544154\ttotal: 495ms\tremaining: 389ms\n",
            "112:\tlearn: 0.0544054\ttotal: 497ms\tremaining: 383ms\n",
            "113:\tlearn: 0.0544012\ttotal: 500ms\tremaining: 377ms\n",
            "114:\tlearn: 0.0543946\ttotal: 505ms\tremaining: 373ms\n",
            "115:\tlearn: 0.0543921\ttotal: 507ms\tremaining: 367ms\n",
            "116:\tlearn: 0.0543831\ttotal: 510ms\tremaining: 362ms\n",
            "117:\tlearn: 0.0543759\ttotal: 513ms\tremaining: 357ms\n",
            "118:\tlearn: 0.0543720\ttotal: 518ms\tremaining: 353ms\n",
            "119:\tlearn: 0.0543661\ttotal: 521ms\tremaining: 347ms\n",
            "120:\tlearn: 0.0543629\ttotal: 523ms\tremaining: 341ms\n",
            "121:\tlearn: 0.0543606\ttotal: 525ms\tremaining: 336ms\n",
            "122:\tlearn: 0.0543580\ttotal: 528ms\tremaining: 331ms\n",
            "123:\tlearn: 0.0543514\ttotal: 530ms\tremaining: 325ms\n",
            "124:\tlearn: 0.0543434\ttotal: 535ms\tremaining: 321ms\n",
            "125:\tlearn: 0.0543375\ttotal: 537ms\tremaining: 316ms\n",
            "126:\tlearn: 0.0543319\ttotal: 540ms\tremaining: 310ms\n",
            "127:\tlearn: 0.0543296\ttotal: 542ms\tremaining: 305ms\n",
            "128:\tlearn: 0.0543247\ttotal: 545ms\tremaining: 300ms\n",
            "129:\tlearn: 0.0543120\ttotal: 550ms\tremaining: 296ms\n",
            "130:\tlearn: 0.0543018\ttotal: 556ms\tremaining: 293ms\n",
            "131:\tlearn: 0.0542921\ttotal: 559ms\tremaining: 288ms\n",
            "132:\tlearn: 0.0542828\ttotal: 565ms\tremaining: 284ms\n",
            "133:\tlearn: 0.0542809\ttotal: 568ms\tremaining: 280ms\n",
            "134:\tlearn: 0.0542767\ttotal: 572ms\tremaining: 276ms\n",
            "135:\tlearn: 0.0542670\ttotal: 576ms\tremaining: 271ms\n",
            "136:\tlearn: 0.0542622\ttotal: 580ms\tremaining: 267ms\n",
            "137:\tlearn: 0.0542542\ttotal: 582ms\tremaining: 262ms\n",
            "138:\tlearn: 0.0542505\ttotal: 585ms\tremaining: 257ms\n",
            "139:\tlearn: 0.0542481\ttotal: 587ms\tremaining: 252ms\n",
            "140:\tlearn: 0.0542438\ttotal: 591ms\tremaining: 247ms\n",
            "141:\tlearn: 0.0542361\ttotal: 596ms\tremaining: 243ms\n",
            "142:\tlearn: 0.0542321\ttotal: 599ms\tremaining: 239ms\n",
            "143:\tlearn: 0.0542254\ttotal: 603ms\tremaining: 234ms\n",
            "144:\tlearn: 0.0542140\ttotal: 606ms\tremaining: 230ms\n",
            "145:\tlearn: 0.0542059\ttotal: 608ms\tremaining: 225ms\n",
            "146:\tlearn: 0.0542019\ttotal: 613ms\tremaining: 221ms\n",
            "147:\tlearn: 0.0542002\ttotal: 615ms\tremaining: 216ms\n",
            "148:\tlearn: 0.0541981\ttotal: 619ms\tremaining: 212ms\n",
            "149:\tlearn: 0.0541910\ttotal: 622ms\tremaining: 207ms\n",
            "150:\tlearn: 0.0541880\ttotal: 624ms\tremaining: 203ms\n",
            "151:\tlearn: 0.0541857\ttotal: 628ms\tremaining: 198ms\n",
            "152:\tlearn: 0.0541837\ttotal: 630ms\tremaining: 193ms\n",
            "153:\tlearn: 0.0541776\ttotal: 632ms\tremaining: 189ms\n",
            "154:\tlearn: 0.0541710\ttotal: 637ms\tremaining: 185ms\n",
            "155:\tlearn: 0.0541653\ttotal: 639ms\tremaining: 180ms\n",
            "156:\tlearn: 0.0541639\ttotal: 642ms\tremaining: 176ms\n",
            "157:\tlearn: 0.0541577\ttotal: 646ms\tremaining: 172ms\n",
            "158:\tlearn: 0.0541533\ttotal: 651ms\tremaining: 168ms\n",
            "159:\tlearn: 0.0541487\ttotal: 653ms\tremaining: 163ms\n",
            "160:\tlearn: 0.0541432\ttotal: 655ms\tremaining: 159ms\n",
            "161:\tlearn: 0.0541398\ttotal: 659ms\tremaining: 155ms\n",
            "162:\tlearn: 0.0541328\ttotal: 661ms\tremaining: 150ms\n",
            "163:\tlearn: 0.0541293\ttotal: 663ms\tremaining: 146ms\n",
            "164:\tlearn: 0.0541276\ttotal: 665ms\tremaining: 141ms\n",
            "165:\tlearn: 0.0541262\ttotal: 667ms\tremaining: 137ms\n",
            "166:\tlearn: 0.0541204\ttotal: 669ms\tremaining: 132ms\n",
            "167:\tlearn: 0.0541172\ttotal: 673ms\tremaining: 128ms\n",
            "168:\tlearn: 0.0541156\ttotal: 675ms\tremaining: 124ms\n",
            "169:\tlearn: 0.0541048\ttotal: 677ms\tremaining: 119ms\n",
            "170:\tlearn: 0.0541009\ttotal: 679ms\tremaining: 115ms\n",
            "171:\tlearn: 0.0540983\ttotal: 681ms\tremaining: 111ms\n",
            "172:\tlearn: 0.0540912\ttotal: 683ms\tremaining: 107ms\n",
            "173:\tlearn: 0.0540861\ttotal: 685ms\tremaining: 102ms\n",
            "174:\tlearn: 0.0540838\ttotal: 689ms\tremaining: 98.5ms\n",
            "175:\tlearn: 0.0540782\ttotal: 691ms\tremaining: 94.3ms\n",
            "176:\tlearn: 0.0540758\ttotal: 694ms\tremaining: 90.1ms\n",
            "177:\tlearn: 0.0540708\ttotal: 696ms\tremaining: 86ms\n",
            "178:\tlearn: 0.0540619\ttotal: 698ms\tremaining: 81.9ms\n",
            "179:\tlearn: 0.0540578\ttotal: 700ms\tremaining: 77.8ms\n",
            "180:\tlearn: 0.0540401\ttotal: 703ms\tremaining: 73.8ms\n",
            "181:\tlearn: 0.0540386\ttotal: 705ms\tremaining: 69.8ms\n",
            "182:\tlearn: 0.0540359\ttotal: 708ms\tremaining: 65.8ms\n",
            "183:\tlearn: 0.0540349\ttotal: 711ms\tremaining: 61.8ms\n",
            "184:\tlearn: 0.0540335\ttotal: 713ms\tremaining: 57.8ms\n",
            "185:\tlearn: 0.0540306\ttotal: 715ms\tremaining: 53.8ms\n",
            "186:\tlearn: 0.0540284\ttotal: 717ms\tremaining: 49.8ms\n",
            "187:\tlearn: 0.0540277\ttotal: 719ms\tremaining: 45.9ms\n",
            "188:\tlearn: 0.0540227\ttotal: 721ms\tremaining: 42ms\n",
            "189:\tlearn: 0.0540185\ttotal: 724ms\tremaining: 38.1ms\n",
            "190:\tlearn: 0.0540157\ttotal: 726ms\tremaining: 34.2ms\n",
            "191:\tlearn: 0.0540148\ttotal: 728ms\tremaining: 30.3ms\n",
            "192:\tlearn: 0.0540072\ttotal: 730ms\tremaining: 26.5ms\n",
            "193:\tlearn: 0.0540063\ttotal: 733ms\tremaining: 22.7ms\n",
            "194:\tlearn: 0.0540023\ttotal: 735ms\tremaining: 18.9ms\n",
            "195:\tlearn: 0.0539949\ttotal: 737ms\tremaining: 15ms\n",
            "196:\tlearn: 0.0539934\ttotal: 739ms\tremaining: 11.3ms\n",
            "197:\tlearn: 0.0539904\ttotal: 742ms\tremaining: 7.49ms\n",
            "198:\tlearn: 0.0539841\ttotal: 744ms\tremaining: 3.74ms\n",
            "199:\tlearn: 0.0539834\ttotal: 746ms\tremaining: 0us\n",
            "[LightGBM] [Warning] Found whitespace in feature_names, replace with underlines\n",
            "[LightGBM] [Info] Auto-choosing row-wise multi-threading, the overhead of testing was 0.000231 seconds.\n",
            "You can set `force_row_wise=true` to remove the overhead.\n",
            "And if memory is not enough, you can set `force_col_wise=true`.\n",
            "[LightGBM] [Info] Total Bins 124\n",
            "[LightGBM] [Info] Number of data points in the train set: 14872, number of used features: 6\n",
            "[LightGBM] [Info] Start training from score 0.452021\n"
          ]
        },
        {
          "name": "stderr",
          "output_type": "stream",
          "text": [
            "c:\\Users\\Windows.10\\AppData\\Local\\Programs\\Python\\Python312\\Lib\\site-packages\\mlflow\\types\\utils.py:394: UserWarning: Hint: Inferred schema contains integer column(s). Integer columns in Python cannot represent missing values. If your input data contains missing values at inference time, it will be encoded as floats and will cause a schema enforcement error. The best way to avoid this problem is to infer the model schema based on a realistic data sample (training dataset) that includes missing values. Alternatively, you can declare integer columns as doubles (float64) whenever these columns may have missing values. See `Handling Integers With Missing Values <https://www.mlflow.org/docs/latest/models.html#handling-integers-with-missing-values>`_ for more details.\n",
            "  warnings.warn(\n"
          ]
        }
      ],
      "source": [
        "models={'1':{'name':'xgboost','model':XGBRegressor(learning_rate=0.1, n_estimators=1000)},\n",
        "        '2':{'name':'catboost','model':cb.CatBoostRegressor(iterations=200,learning_rate=0.1,depth=2)},\n",
        "        '3':{'name':'lightgbm','model':LGBMRegressor(num_leaves=31,learning_rate=0.05,n_estimators=500)}\n",
        "        }\n",
        "for key in ['1','2','3']:\n",
        "    with mlflow.start_run():\n",
        "     model=models[key]['model']\n",
        "     model.fit(x_train,y_train)\n",
        "     predict=model.predict(x_test)\n",
        "     rmse=np.sqrt(calculate_rmse(y_test,predict))\n",
        "     mlflow.log_metric(\"rmse\",rmse)\n",
        "     signature=infer_signature(x_train,predict)\n",
        "     tracking_url_type_store=urlparse(mlflow.get_tracking_uri()).scheme\n",
        "     if tracking_url_type_store!=\"file\":\n",
        "        mlflow.sklearn.log_model(model,\"model\",registered_model_name=models[key]['name'], signature=signature)\n",
        "     else:\n",
        "        mlflow.sklearn.log_model(model,\"model\", signature=signature)\n",
        "   "
      ]
    },
    {
      "cell_type": "code",
      "execution_count": null,
      "metadata": {},
      "outputs": [],
      "source": [
        " with mlflow.start_run():\n",
        "        model = cb.CatBoostRegressor(loss_function='RMSE')\n",
        "        model.fit(x_train,y_train)\n",
        "        predict=model.predict(y_test)\n",
        "        rmse=np.sqrt(calculate_rmse(y_test,predict))\n",
        "        mlflow.log_metric(\"rmse\",rmse)\n",
        "        signature=infer_signature(x_train,predict)\n",
        "\n",
        "        tracking_url_type_store=urlparse(mlflow.get_tracking_uri()).scheme\n",
        "        if tracking_url_type_store!=\"file\":\n",
        "            mlflow.sklearn.log_model(model,\"model\",registered_model_name=\"Catboost\", signature=signature)\n",
        "        else:\n",
        "            mlflow.sklearn.log_model(model,\"model\", signature=signature)\n"
      ]
    }
  ],
  "metadata": {
    "accelerator": "GPU",
    "colab": {
      "collapsed_sections": [
        "Yx1jEO0NyP37"
      ],
      "gpuType": "T4",
      "provenance": []
    },
    "kernelspec": {
      "display_name": "Python 3",
      "name": "python3"
    },
    "language_info": {
      "codemirror_mode": {
        "name": "ipython",
        "version": 3
      },
      "file_extension": ".py",
      "mimetype": "text/x-python",
      "name": "python",
      "nbconvert_exporter": "python",
      "pygments_lexer": "ipython3",
      "version": "3.12.3"
    }
  },
  "nbformat": 4,
  "nbformat_minor": 0
}
