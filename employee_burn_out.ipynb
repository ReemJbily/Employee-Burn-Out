{
  "cells": [
    {
      "cell_type": "code",
      "execution_count": 17,
      "metadata": {
        "id": "XsII823wcUkv"
      },
      "outputs": [],
      "source": [
        "import numpy as np\n",
        "import pandas as pd\n",
        "import matplotlib.pyplot as plt\n",
        "%matplotlib inline\n",
        "import seaborn as sns\n",
        "\n",
        "from sklearn.model_selection import train_test_split\n",
        "from sklearn.metrics import mean_squared_error\n",
        "\n",
        "\n",
        "from sklearn.preprocessing import StandardScaler\n",
        "\n",
        "import pickle\n",
        "from urllib.parse import urlparse\n",
        "\n",
        "from sklearn.ensemble import RandomForestRegressor\n",
        "import xgboost as xgb\n",
        "import catboost as cb\n",
        "import lightgbm as lgbm"
      ]
    },
    {
      "cell_type": "code",
      "execution_count": 28,
      "metadata": {},
      "outputs": [],
      "source": [
        "from mlflow.models import ModelSignature\n",
        "from mlflow.types.schema import Schema, ColSpec\n",
        "from mlflow.models import infer_signature\n",
        "from mlflow import MlflowClient"
      ]
    },
    {
      "cell_type": "markdown",
      "metadata": {
        "id": "Yx1jEO0NyP37"
      },
      "source": [
        "# Setup MLFLOW"
      ]
    },
    {
      "cell_type": "code",
      "execution_count": 18,
      "metadata": {
        "colab": {
          "base_uri": "https://localhost:8080/"
        },
        "collapsed": true,
        "id": "XW2YxWg7yO2F",
        "outputId": "b8fedf84-a394-4497-9483-66d9c0f90409"
      },
      "outputs": [
        {
          "data": {
            "text/plain": [
              "<Experiment: artifact_location='file:///c:/Users/Windows.10/Employee-Burn-Out/mlruns/845213557949273536', creation_time=1726420184733, experiment_id='845213557949273536', last_update_time=1726420184733, lifecycle_stage='active', name='Employee-Burn-Out-New-Exp', tags={}>"
            ]
          },
          "execution_count": 18,
          "metadata": {},
          "output_type": "execute_result"
        }
      ],
      "source": [
        "import mlflow\n",
        "import mlflow.sklearn\n",
        "import mlflow.catboost \n",
        "import mlflow.xgboost\n",
        "import mlflow.lightgbm \n",
        "mlflow.set_experiment('Employee-Burn-Out-New-Exp')"
      ]
    },
    {
      "cell_type": "markdown",
      "metadata": {
        "id": "oAPtHPxZe7zA"
      },
      "source": [
        "# Read Data"
      ]
    },
    {
      "cell_type": "code",
      "execution_count": 5,
      "metadata": {
        "id": "M5mGRDREeVOg"
      },
      "outputs": [],
      "source": [
        "train=pd.read_csv(r'D:/Users/user/mlops/work_burn_out/data/train.csv')\n",
        "test=pd.read_csv(r'D:/Users/user/mlops/work_burn_out/data/test.csv')"
      ]
    },
    {
      "cell_type": "markdown",
      "metadata": {
        "id": "SuW26lChe-P3"
      },
      "source": [
        "# Actions made to data"
      ]
    },
    {
      "cell_type": "code",
      "execution_count": 6,
      "metadata": {},
      "outputs": [],
      "source": [
        "class Actions:\n",
        "    def __init__(self,data):\n",
        "        self.data=data        \n",
        "    def preprocess(self):\n",
        "        self.data.rename(columns={'WFH Setup Available': 'Remote','Resource Allocation':'Resource'}, inplace=True)\n",
        "        self.data.drop_duplicates(inplace=True)\n",
        "        self.data=self.data.drop('Employee ID',axis=1)\n",
        "        self.data=self.data.dropna()\n",
        "        return self.data\n",
        "    def encoding(self,data):\n",
        "        self.data=data\n",
        "        self.data['Gender'] = self.data['Gender'].replace({'Male': 1,'Female': 0})\n",
        "        self.data['Company Type'] = self.data['Company Type'].replace({'Service': 1, 'Product': 0})\n",
        "        self.data['Remote'] = self.data['Remote'].replace({'Yes': 1, 'No': 0})\n",
        "        return self.data"
      ]
    },
    {
      "cell_type": "markdown",
      "metadata": {
        "id": "NcWcMUNfvB1u"
      },
      "source": [
        "# Preprocessing\n",
        "**1. remove duplicates**\n",
        "\n",
        "**2. drop Employee ID**\n",
        "\n",
        "**3. rename columns**\n",
        "\n"
      ]
    },
    {
      "cell_type": "code",
      "execution_count": 7,
      "metadata": {
        "id": "AlPEL3JztBC5"
      },
      "outputs": [],
      "source": [
        "actions_to_train_data=Actions(train)\n",
        "actions_to_test_data=Actions(test)\n",
        "\n",
        "train=actions_to_train_data.preprocess()\n",
        "test=actions_to_test_data.preprocess()"
      ]
    },
    {
      "cell_type": "markdown",
      "metadata": {
        "id": "z75ZjALT3GGl"
      },
      "source": [
        "# Encoding\n",
        "# **Categorical data:**\n",
        "Date of Joining, Gender, Company Type, WFH Setup Available\n",
        "# **Numerical data:**\n",
        "Designation, Resource Allocation, Mental Fatigue Score, Burn Rate"
      ]
    },
    {
      "cell_type": "code",
      "execution_count": 8,
      "metadata": {
        "id": "a778ANYryKwI"
      },
      "outputs": [],
      "source": [
        "train=actions_to_train_data.encoding(train)\n",
        "test=actions_to_test_data.encoding(test)"
      ]
    },
    {
      "cell_type": "code",
      "execution_count": null,
      "metadata": {
        "colab": {
          "base_uri": "https://localhost:8080/"
        },
        "id": "543OWNJAMmII",
        "outputId": "d0505126-bc61-46b3-feba-b1127cf0ab2c"
      },
      "outputs": [
        {
          "name": "stdout",
          "output_type": "stream",
          "text": [
            "2008-01-01 \n",
            "2008-12-31\n"
          ]
        }
      ],
      "source": [
        "print(train['Date of Joining'].min(),'\\n'+str(train['Date of Joining'].max()))"
      ]
    },
    {
      "cell_type": "code",
      "execution_count": 9,
      "metadata": {
        "id": "q3OuyyFc3H-G"
      },
      "outputs": [],
      "source": [
        "#difference between the time employee arrived and the time of the survay which is 2020 kis 4 years\n",
        "date=np.ones((len(train['Date of Joining']),1))\n",
        "train['Work Period']=date*12"
      ]
    },
    {
      "cell_type": "code",
      "execution_count": 10,
      "metadata": {
        "id": "zwPr58JvMrUY"
      },
      "outputs": [],
      "source": [
        "#no need for the date of joining column any more\n",
        "train=train.drop('Date of Joining',axis=1)"
      ]
    },
    {
      "cell_type": "markdown",
      "metadata": {
        "id": "FyeUMsWydhFz"
      },
      "source": [
        "# **Training**"
      ]
    },
    {
      "cell_type": "code",
      "execution_count": 11,
      "metadata": {
        "id": "tgkzI-Uzf6GJ"
      },
      "outputs": [],
      "source": [
        "X=train.drop('Burn Rate',axis=1)\n",
        "Y=train['Burn Rate']"
      ]
    },
    {
      "cell_type": "code",
      "execution_count": 12,
      "metadata": {
        "id": "qdTlPxfg-bxN"
      },
      "outputs": [],
      "source": [
        "x_train,x_test,y_train,y_test=train_test_split(X,Y,test_size=0.2,random_state=42)"
      ]
    },
    {
      "cell_type": "markdown",
      "metadata": {},
      "source": [
        "# MLflow"
      ]
    },
    {
      "cell_type": "code",
      "execution_count": 23,
      "metadata": {},
      "outputs": [],
      "source": [
        "class LossFunctions:\n",
        "    def init(self, actual_values, predicted_values):\n",
        "        self.actual_values=np.array(actual_values)\n",
        "        self.predicted_values=np.array(predicted_values)\n",
        "        self.differences=self.actual_values-self.predicted_values\n",
        "\n",
        "    def calculate_mae(self):\n",
        "        return np.absolute(np.mean(self.differences))\n",
        "\n",
        "    def calculate_mse(self):\n",
        "        # Square the differences\n",
        "        squared_differences = self.differences ** 2\n",
        "        return np.mean(squared_differences)\n",
        "\n",
        "    def calculate_rmse(self):            \n",
        "        # Take the square root of the mean squared difference to get RMSE\n",
        "        rmse = np.sqrt(self.calculate_mse())    \n",
        "        return rmse"
      ]
    },
    {
      "cell_type": "code",
      "execution_count": 26,
      "metadata": {
        "id": "Q82t0NHGFlB6"
      },
      "outputs": [
        {
          "name": "stderr",
          "output_type": "stream",
          "text": [
            "c:\\Users\\Windows.10\\AppData\\Local\\Programs\\Python\\Python312\\Lib\\site-packages\\mlflow\\types\\utils.py:394: UserWarning: Hint: Inferred schema contains integer column(s). Integer columns in Python cannot represent missing values. If your input data contains missing values at inference time, it will be encoded as floats and will cause a schema enforcement error. The best way to avoid this problem is to infer the model schema based on a realistic data sample (training dataset) that includes missing values. Alternatively, you can declare integer columns as doubles (float64) whenever these columns may have missing values. See `Handling Integers With Missing Values <https://www.mlflow.org/docs/latest/models.html#handling-integers-with-missing-values>`_ for more details.\n",
            "  warnings.warn(\n",
            "Registered model 'xgboost' already exists. Creating a new version of this model...\n",
            "Created version '2' of model 'xgboost'.\n"
          ]
        },
        {
          "name": "stdout",
          "output_type": "stream",
          "text": [
            "0:\tlearn: 0.1846865\ttotal: 35.5ms\tremaining: 7.07s\n",
            "1:\tlearn: 0.1724098\ttotal: 38ms\tremaining: 3.76s\n",
            "2:\tlearn: 0.1609908\ttotal: 40.4ms\tremaining: 2.65s\n",
            "3:\tlearn: 0.1511941\ttotal: 42.7ms\tremaining: 2.09s\n",
            "4:\tlearn: 0.1417847\ttotal: 45.1ms\tremaining: 1.76s\n",
            "5:\tlearn: 0.1331957\ttotal: 47.6ms\tremaining: 1.54s\n",
            "6:\tlearn: 0.1262241\ttotal: 50.1ms\tremaining: 1.38s\n",
            "7:\tlearn: 0.1190350\ttotal: 52.3ms\tremaining: 1.25s\n",
            "8:\tlearn: 0.1128067\ttotal: 54.7ms\tremaining: 1.16s\n",
            "9:\tlearn: 0.1076561\ttotal: 57ms\tremaining: 1.08s\n",
            "10:\tlearn: 0.1023663\ttotal: 59.4ms\tremaining: 1.02s\n",
            "11:\tlearn: 0.0976709\ttotal: 61.8ms\tremaining: 968ms\n",
            "12:\tlearn: 0.0932804\ttotal: 65.1ms\tremaining: 936ms\n",
            "13:\tlearn: 0.0895690\ttotal: 69.7ms\tremaining: 927ms\n",
            "14:\tlearn: 0.0861403\ttotal: 75.6ms\tremaining: 932ms\n",
            "15:\tlearn: 0.0832705\ttotal: 79.3ms\tremaining: 912ms\n",
            "16:\tlearn: 0.0802041\ttotal: 83.9ms\tremaining: 903ms\n",
            "17:\tlearn: 0.0775330\ttotal: 87.5ms\tremaining: 884ms\n",
            "18:\tlearn: 0.0750922\ttotal: 91ms\tremaining: 867ms\n",
            "19:\tlearn: 0.0730637\ttotal: 94.9ms\tremaining: 854ms\n",
            "20:\tlearn: 0.0711898\ttotal: 98.5ms\tremaining: 839ms\n",
            "21:\tlearn: 0.0695816\ttotal: 101ms\tremaining: 819ms\n",
            "22:\tlearn: 0.0679800\ttotal: 104ms\tremaining: 799ms\n",
            "23:\tlearn: 0.0665901\ttotal: 107ms\tremaining: 781ms\n",
            "24:\tlearn: 0.0653759\ttotal: 110ms\tremaining: 768ms\n",
            "25:\tlearn: 0.0643271\ttotal: 113ms\tremaining: 754ms\n",
            "26:\tlearn: 0.0633870\ttotal: 116ms\tremaining: 740ms\n",
            "27:\tlearn: 0.0624202\ttotal: 118ms\tremaining: 727ms\n",
            "28:\tlearn: 0.0616230\ttotal: 121ms\tremaining: 714ms\n",
            "29:\tlearn: 0.0609150\ttotal: 124ms\tremaining: 702ms\n",
            "30:\tlearn: 0.0603115\ttotal: 127ms\tremaining: 691ms\n",
            "31:\tlearn: 0.0597440\ttotal: 130ms\tremaining: 680ms\n",
            "32:\tlearn: 0.0592820\ttotal: 132ms\tremaining: 670ms\n",
            "33:\tlearn: 0.0588441\ttotal: 136ms\tremaining: 664ms\n",
            "34:\tlearn: 0.0584315\ttotal: 140ms\tremaining: 660ms\n",
            "35:\tlearn: 0.0581156\ttotal: 143ms\tremaining: 654ms\n",
            "36:\tlearn: 0.0577898\ttotal: 146ms\tremaining: 642ms\n",
            "37:\tlearn: 0.0574708\ttotal: 148ms\tremaining: 630ms\n",
            "38:\tlearn: 0.0572163\ttotal: 150ms\tremaining: 620ms\n",
            "39:\tlearn: 0.0569894\ttotal: 152ms\tremaining: 609ms\n",
            "40:\tlearn: 0.0567864\ttotal: 154ms\tremaining: 599ms\n",
            "41:\tlearn: 0.0565806\ttotal: 157ms\tremaining: 589ms\n",
            "42:\tlearn: 0.0564237\ttotal: 159ms\tremaining: 580ms\n",
            "43:\tlearn: 0.0562492\ttotal: 162ms\tremaining: 575ms\n",
            "44:\tlearn: 0.0561093\ttotal: 165ms\tremaining: 569ms\n",
            "45:\tlearn: 0.0559876\ttotal: 169ms\tremaining: 567ms\n",
            "46:\tlearn: 0.0558575\ttotal: 172ms\tremaining: 560ms\n",
            "47:\tlearn: 0.0557359\ttotal: 175ms\tremaining: 555ms\n",
            "48:\tlearn: 0.0556382\ttotal: 179ms\tremaining: 550ms\n",
            "49:\tlearn: 0.0555665\ttotal: 181ms\tremaining: 543ms\n",
            "50:\tlearn: 0.0555031\ttotal: 184ms\tremaining: 537ms\n",
            "51:\tlearn: 0.0554285\ttotal: 186ms\tremaining: 531ms\n",
            "52:\tlearn: 0.0553536\ttotal: 189ms\tremaining: 525ms\n",
            "53:\tlearn: 0.0552922\ttotal: 192ms\tremaining: 519ms\n",
            "54:\tlearn: 0.0552333\ttotal: 195ms\tremaining: 514ms\n",
            "55:\tlearn: 0.0551851\ttotal: 197ms\tremaining: 508ms\n",
            "56:\tlearn: 0.0551345\ttotal: 200ms\tremaining: 502ms\n",
            "57:\tlearn: 0.0550975\ttotal: 203ms\tremaining: 496ms\n",
            "58:\tlearn: 0.0550560\ttotal: 205ms\tremaining: 491ms\n",
            "59:\tlearn: 0.0550220\ttotal: 210ms\tremaining: 490ms\n",
            "60:\tlearn: 0.0549881\ttotal: 213ms\tremaining: 484ms\n",
            "61:\tlearn: 0.0549609\ttotal: 215ms\tremaining: 478ms\n",
            "62:\tlearn: 0.0549306\ttotal: 217ms\tremaining: 472ms\n",
            "63:\tlearn: 0.0549057\ttotal: 219ms\tremaining: 466ms\n",
            "64:\tlearn: 0.0548854\ttotal: 222ms\tremaining: 461ms\n",
            "65:\tlearn: 0.0548662\ttotal: 224ms\tremaining: 455ms\n",
            "66:\tlearn: 0.0548459\ttotal: 226ms\tremaining: 449ms\n",
            "67:\tlearn: 0.0548251\ttotal: 228ms\tremaining: 443ms\n",
            "68:\tlearn: 0.0548089\ttotal: 230ms\tremaining: 438ms\n",
            "69:\tlearn: 0.0547912\ttotal: 233ms\tremaining: 433ms\n",
            "70:\tlearn: 0.0547701\ttotal: 236ms\tremaining: 428ms\n",
            "71:\tlearn: 0.0547505\ttotal: 238ms\tremaining: 423ms\n",
            "72:\tlearn: 0.0547374\ttotal: 240ms\tremaining: 418ms\n",
            "73:\tlearn: 0.0547225\ttotal: 242ms\tremaining: 412ms\n",
            "74:\tlearn: 0.0547070\ttotal: 244ms\tremaining: 407ms\n",
            "75:\tlearn: 0.0546939\ttotal: 247ms\tremaining: 402ms\n",
            "76:\tlearn: 0.0546801\ttotal: 249ms\tremaining: 398ms\n",
            "77:\tlearn: 0.0546695\ttotal: 252ms\tremaining: 393ms\n",
            "78:\tlearn: 0.0546593\ttotal: 254ms\tremaining: 389ms\n",
            "79:\tlearn: 0.0546520\ttotal: 256ms\tremaining: 384ms\n",
            "80:\tlearn: 0.0546382\ttotal: 258ms\tremaining: 379ms\n",
            "81:\tlearn: 0.0546280\ttotal: 260ms\tremaining: 375ms\n",
            "82:\tlearn: 0.0546206\ttotal: 263ms\tremaining: 370ms\n",
            "83:\tlearn: 0.0546149\ttotal: 265ms\tremaining: 366ms\n",
            "84:\tlearn: 0.0546062\ttotal: 267ms\tremaining: 361ms\n",
            "85:\tlearn: 0.0546006\ttotal: 385ms\tremaining: 511ms\n",
            "86:\tlearn: 0.0545948\ttotal: 389ms\tremaining: 505ms\n",
            "87:\tlearn: 0.0545879\ttotal: 393ms\tremaining: 500ms\n",
            "88:\tlearn: 0.0545809\ttotal: 396ms\tremaining: 494ms\n",
            "89:\tlearn: 0.0545725\ttotal: 399ms\tremaining: 487ms\n",
            "90:\tlearn: 0.0545683\ttotal: 402ms\tremaining: 482ms\n",
            "91:\tlearn: 0.0545620\ttotal: 405ms\tremaining: 476ms\n",
            "92:\tlearn: 0.0545526\ttotal: 408ms\tremaining: 470ms\n",
            "93:\tlearn: 0.0545404\ttotal: 414ms\tremaining: 467ms\n",
            "94:\tlearn: 0.0545361\ttotal: 417ms\tremaining: 461ms\n",
            "95:\tlearn: 0.0545328\ttotal: 420ms\tremaining: 455ms\n",
            "96:\tlearn: 0.0545288\ttotal: 423ms\tremaining: 449ms\n",
            "97:\tlearn: 0.0545205\ttotal: 425ms\tremaining: 443ms\n",
            "98:\tlearn: 0.0545113\ttotal: 428ms\tremaining: 437ms\n",
            "99:\tlearn: 0.0545053\ttotal: 430ms\tremaining: 430ms\n",
            "100:\tlearn: 0.0544992\ttotal: 433ms\tremaining: 424ms\n",
            "101:\tlearn: 0.0544960\ttotal: 435ms\tremaining: 418ms\n",
            "102:\tlearn: 0.0544923\ttotal: 438ms\tremaining: 412ms\n",
            "103:\tlearn: 0.0544882\ttotal: 440ms\tremaining: 407ms\n",
            "104:\tlearn: 0.0544739\ttotal: 443ms\tremaining: 401ms\n",
            "105:\tlearn: 0.0544608\ttotal: 446ms\tremaining: 395ms\n",
            "106:\tlearn: 0.0544536\ttotal: 448ms\tremaining: 390ms\n",
            "107:\tlearn: 0.0544508\ttotal: 451ms\tremaining: 384ms\n",
            "108:\tlearn: 0.0544381\ttotal: 454ms\tremaining: 379ms\n",
            "109:\tlearn: 0.0544265\ttotal: 457ms\tremaining: 374ms\n",
            "110:\tlearn: 0.0544234\ttotal: 460ms\tremaining: 369ms\n",
            "111:\tlearn: 0.0544154\ttotal: 463ms\tremaining: 364ms\n",
            "112:\tlearn: 0.0544054\ttotal: 466ms\tremaining: 359ms\n",
            "113:\tlearn: 0.0544012\ttotal: 469ms\tremaining: 353ms\n",
            "114:\tlearn: 0.0543946\ttotal: 471ms\tremaining: 348ms\n",
            "115:\tlearn: 0.0543921\ttotal: 474ms\tremaining: 343ms\n",
            "116:\tlearn: 0.0543831\ttotal: 477ms\tremaining: 338ms\n",
            "117:\tlearn: 0.0543759\ttotal: 479ms\tremaining: 333ms\n",
            "118:\tlearn: 0.0543720\ttotal: 482ms\tremaining: 328ms\n",
            "119:\tlearn: 0.0543661\ttotal: 484ms\tremaining: 323ms\n",
            "120:\tlearn: 0.0543629\ttotal: 487ms\tremaining: 318ms\n",
            "121:\tlearn: 0.0543606\ttotal: 490ms\tremaining: 313ms\n",
            "122:\tlearn: 0.0543580\ttotal: 492ms\tremaining: 308ms\n",
            "123:\tlearn: 0.0543514\ttotal: 495ms\tremaining: 303ms\n",
            "124:\tlearn: 0.0543434\ttotal: 498ms\tremaining: 299ms\n",
            "125:\tlearn: 0.0543375\ttotal: 501ms\tremaining: 294ms\n",
            "126:\tlearn: 0.0543319\ttotal: 504ms\tremaining: 290ms\n",
            "127:\tlearn: 0.0543296\ttotal: 507ms\tremaining: 285ms\n",
            "128:\tlearn: 0.0543247\ttotal: 511ms\tremaining: 281ms\n",
            "129:\tlearn: 0.0543120\ttotal: 515ms\tremaining: 277ms\n",
            "130:\tlearn: 0.0543018\ttotal: 520ms\tremaining: 274ms\n",
            "131:\tlearn: 0.0542921\ttotal: 524ms\tremaining: 270ms\n",
            "132:\tlearn: 0.0542828\ttotal: 527ms\tremaining: 266ms\n",
            "133:\tlearn: 0.0542809\ttotal: 531ms\tremaining: 262ms\n",
            "134:\tlearn: 0.0542767\ttotal: 537ms\tremaining: 259ms\n",
            "135:\tlearn: 0.0542670\ttotal: 543ms\tremaining: 256ms\n",
            "136:\tlearn: 0.0542622\ttotal: 549ms\tremaining: 253ms\n",
            "137:\tlearn: 0.0542542\ttotal: 554ms\tremaining: 249ms\n",
            "138:\tlearn: 0.0542505\ttotal: 557ms\tremaining: 245ms\n",
            "139:\tlearn: 0.0542481\ttotal: 562ms\tremaining: 241ms\n",
            "140:\tlearn: 0.0542438\ttotal: 569ms\tremaining: 238ms\n",
            "141:\tlearn: 0.0542361\ttotal: 574ms\tremaining: 235ms\n",
            "142:\tlearn: 0.0542321\ttotal: 580ms\tremaining: 231ms\n",
            "143:\tlearn: 0.0542254\ttotal: 586ms\tremaining: 228ms\n",
            "144:\tlearn: 0.0542140\ttotal: 592ms\tremaining: 225ms\n",
            "145:\tlearn: 0.0542059\ttotal: 597ms\tremaining: 221ms\n",
            "146:\tlearn: 0.0542019\ttotal: 607ms\tremaining: 219ms\n",
            "147:\tlearn: 0.0542002\ttotal: 611ms\tremaining: 215ms\n",
            "148:\tlearn: 0.0541981\ttotal: 616ms\tremaining: 211ms\n",
            "149:\tlearn: 0.0541910\ttotal: 622ms\tremaining: 207ms\n",
            "150:\tlearn: 0.0541880\ttotal: 630ms\tremaining: 204ms\n",
            "151:\tlearn: 0.0541857\ttotal: 642ms\tremaining: 203ms\n",
            "152:\tlearn: 0.0541837\ttotal: 650ms\tremaining: 200ms\n",
            "153:\tlearn: 0.0541776\ttotal: 654ms\tremaining: 195ms\n",
            "154:\tlearn: 0.0541710\ttotal: 657ms\tremaining: 191ms\n",
            "155:\tlearn: 0.0541653\ttotal: 660ms\tremaining: 186ms\n",
            "156:\tlearn: 0.0541639\ttotal: 664ms\tremaining: 182ms\n",
            "157:\tlearn: 0.0541577\ttotal: 667ms\tremaining: 177ms\n",
            "158:\tlearn: 0.0541533\ttotal: 676ms\tremaining: 174ms\n",
            "159:\tlearn: 0.0541487\ttotal: 679ms\tremaining: 170ms\n",
            "160:\tlearn: 0.0541432\ttotal: 682ms\tremaining: 165ms\n",
            "161:\tlearn: 0.0541398\ttotal: 686ms\tremaining: 161ms\n",
            "162:\tlearn: 0.0541328\ttotal: 689ms\tremaining: 156ms\n",
            "163:\tlearn: 0.0541293\ttotal: 692ms\tremaining: 152ms\n",
            "164:\tlearn: 0.0541276\ttotal: 695ms\tremaining: 147ms\n",
            "165:\tlearn: 0.0541262\ttotal: 748ms\tremaining: 153ms\n",
            "166:\tlearn: 0.0541204\ttotal: 753ms\tremaining: 149ms\n",
            "167:\tlearn: 0.0541172\ttotal: 758ms\tremaining: 144ms\n",
            "168:\tlearn: 0.0541156\ttotal: 763ms\tremaining: 140ms\n",
            "169:\tlearn: 0.0541048\ttotal: 768ms\tremaining: 136ms\n",
            "170:\tlearn: 0.0541009\ttotal: 773ms\tremaining: 131ms\n",
            "171:\tlearn: 0.0540983\ttotal: 784ms\tremaining: 128ms\n",
            "172:\tlearn: 0.0540912\ttotal: 789ms\tremaining: 123ms\n",
            "173:\tlearn: 0.0540861\ttotal: 796ms\tremaining: 119ms\n",
            "174:\tlearn: 0.0540838\ttotal: 800ms\tremaining: 114ms\n",
            "175:\tlearn: 0.0540782\ttotal: 805ms\tremaining: 110ms\n",
            "176:\tlearn: 0.0540758\ttotal: 809ms\tremaining: 105ms\n",
            "177:\tlearn: 0.0540708\ttotal: 812ms\tremaining: 100ms\n",
            "178:\tlearn: 0.0540619\ttotal: 815ms\tremaining: 95.6ms\n",
            "179:\tlearn: 0.0540578\ttotal: 823ms\tremaining: 91.4ms\n",
            "180:\tlearn: 0.0540401\ttotal: 827ms\tremaining: 86.8ms\n",
            "181:\tlearn: 0.0540386\ttotal: 830ms\tremaining: 82.1ms\n",
            "182:\tlearn: 0.0540359\ttotal: 835ms\tremaining: 77.5ms\n",
            "183:\tlearn: 0.0540349\ttotal: 837ms\tremaining: 72.8ms\n",
            "184:\tlearn: 0.0540335\ttotal: 841ms\tremaining: 68.2ms\n",
            "185:\tlearn: 0.0540306\ttotal: 844ms\tremaining: 63.5ms\n",
            "186:\tlearn: 0.0540284\ttotal: 847ms\tremaining: 58.9ms\n",
            "187:\tlearn: 0.0540277\ttotal: 852ms\tremaining: 54.4ms\n",
            "188:\tlearn: 0.0540227\ttotal: 856ms\tremaining: 49.8ms\n",
            "189:\tlearn: 0.0540185\ttotal: 859ms\tremaining: 45.2ms\n",
            "190:\tlearn: 0.0540157\ttotal: 864ms\tremaining: 40.7ms\n",
            "191:\tlearn: 0.0540148\ttotal: 871ms\tremaining: 36.3ms\n",
            "192:\tlearn: 0.0540072\ttotal: 876ms\tremaining: 31.8ms\n",
            "193:\tlearn: 0.0540063\ttotal: 880ms\tremaining: 27.2ms\n",
            "194:\tlearn: 0.0540023\ttotal: 885ms\tremaining: 22.7ms\n",
            "195:\tlearn: 0.0539949\ttotal: 891ms\tremaining: 18.2ms\n",
            "196:\tlearn: 0.0539934\ttotal: 897ms\tremaining: 13.7ms\n",
            "197:\tlearn: 0.0539904\ttotal: 903ms\tremaining: 9.12ms\n",
            "198:\tlearn: 0.0539841\ttotal: 914ms\tremaining: 4.59ms\n",
            "199:\tlearn: 0.0539834\ttotal: 922ms\tremaining: 0us\n"
          ]
        },
        {
          "name": "stderr",
          "output_type": "stream",
          "text": [
            "Registered model 'catboost' already exists. Creating a new version of this model...\n",
            "Created version '12' of model 'catboost'.\n"
          ]
        },
        {
          "name": "stdout",
          "output_type": "stream",
          "text": [
            "[LightGBM] [Warning] Found whitespace in feature_names, replace with underlines\n",
            "[LightGBM] [Info] Auto-choosing row-wise multi-threading, the overhead of testing was 0.000308 seconds.\n",
            "You can set `force_row_wise=true` to remove the overhead.\n",
            "And if memory is not enough, you can set `force_col_wise=true`.\n",
            "[LightGBM] [Info] Total Bins 124\n",
            "[LightGBM] [Info] Number of data points in the train set: 14872, number of used features: 6\n",
            "[LightGBM] [Info] Start training from score 0.452021\n"
          ]
        },
        {
          "name": "stderr",
          "output_type": "stream",
          "text": [
            "c:\\Users\\Windows.10\\AppData\\Local\\Programs\\Python\\Python312\\Lib\\site-packages\\mlflow\\types\\utils.py:394: UserWarning: Hint: Inferred schema contains integer column(s). Integer columns in Python cannot represent missing values. If your input data contains missing values at inference time, it will be encoded as floats and will cause a schema enforcement error. The best way to avoid this problem is to infer the model schema based on a realistic data sample (training dataset) that includes missing values. Alternatively, you can declare integer columns as doubles (float64) whenever these columns may have missing values. See `Handling Integers With Missing Values <https://www.mlflow.org/docs/latest/models.html#handling-integers-with-missing-values>`_ for more details.\n",
            "  warnings.warn(\n",
            "Registered model 'lightgbm' already exists. Creating a new version of this model...\n",
            "Created version '2' of model 'lightgbm'.\n"
          ]
        }
      ],
      "source": [
        "losses=LossFunctions()\n",
        "models={1:{'model':xgb.XGBRegressor(learning_rate=0.1, n_estimators=1000)},\n",
        "        2:{'model':cb.CatBoostRegressor(iterations=200,learning_rate=0.1,depth=2)},\n",
        "        3:{'model':lgbm.LGBMRegressor(num_leaves=31,learning_rate=0.05,n_estimators=500)}\n",
        "        }\n",
        "model_names={1:'xgboost',\n",
        "             2:'catboost',\n",
        "             3:'lightgbm'}\n",
        "for key in [1,2,3]:\n",
        "    with mlflow.start_run():\n",
        "     model=models[key]['model']\n",
        "     model.fit(x_train,y_train)\n",
        "     predict=model.predict(x_test)\n",
        "     losses.init(y_test,predict)\n",
        "     mlflow.log_metric(\"rmse\",losses.calculate_rmse())\n",
        "     mlflow.log_metric(\"mse\",losses.calculate_mse())\n",
        "     mlflow.log_metric(\"mae\",losses.calculate_mae())\n",
        "     signature=infer_signature(x_train,predict)\n",
        "     tracking_url_type_store=urlparse(mlflow.get_tracking_uri()).scheme\n",
        "     mlflow.sklearn.log_model(model,\"model\",registered_model_name=model_names[key], signature=signature)"
      ]
    },
    {
      "cell_type": "markdown",
      "metadata": {},
      "source": [
        "# Retrive best model"
      ]
    },
    {
      "cell_type": "code",
      "execution_count": 40,
      "metadata": {},
      "outputs": [
        {
          "name": "stderr",
          "output_type": "stream",
          "text": [
            "C:\\Users\\Windows.10\\AppData\\Local\\Temp\\ipykernel_17272\\3021199080.py:3: FutureWarning: ``mlflow.tracking.client.MlflowClient.get_latest_versions`` is deprecated since 2.9.0. Model registry stages will be removed in a future major release. To learn more about the deprecation of model registry stages, see our migration guide here: https://mlflow.org/docs/2.13.2/model-registry.html#migrating-from-stages\n",
            "  latest_model_version = client.get_latest_versions(name=\"catboost\")\n"
          ]
        }
      ],
      "source": [
        "client = mlflow.MlflowClient()\n",
        "\n",
        "latest_model_version = client.get_latest_versions(name=\"catboost\")"
      ]
    },
    {
      "cell_type": "code",
      "execution_count": 45,
      "metadata": {},
      "outputs": [
        {
          "ename": "KeyError",
          "evalue": "'experiment_id'",
          "output_type": "error",
          "traceback": [
            "\u001b[1;31m---------------------------------------------------------------------------\u001b[0m",
            "\u001b[1;31mKeyError\u001b[0m                                  Traceback (most recent call last)",
            "Cell \u001b[1;32mIn[45], line 2\u001b[0m\n\u001b[0;32m      1\u001b[0m \u001b[38;5;66;03m# Load the model\u001b[39;00m\n\u001b[1;32m----> 2\u001b[0m loaded_model \u001b[38;5;241m=\u001b[39m \u001b[43mmlflow\u001b[49m\u001b[38;5;241;43m.\u001b[39;49m\u001b[43mpyfunc\u001b[49m\u001b[38;5;241;43m.\u001b[39;49m\u001b[43mload_model\u001b[49m\u001b[43m(\u001b[49m\u001b[38;5;124;43mf\u001b[39;49m\u001b[38;5;124;43m\"\u001b[39;49m\u001b[38;5;124;43mruns:/CatBoost/\u001b[39;49m\u001b[38;5;132;43;01m{\u001b[39;49;00m\u001b[38;5;124;43m'\u001b[39;49m\u001b[38;5;124;43m15dcda2e1abd40d5b2f07eee6121714e\u001b[39;49m\u001b[38;5;124;43m'\u001b[39;49m\u001b[38;5;132;43;01m}\u001b[39;49;00m\u001b[38;5;124;43m/model.pkl\u001b[39;49m\u001b[38;5;124;43m\"\u001b[39;49m\u001b[43m)\u001b[49m\n",
            "File \u001b[1;32mc:\\Users\\Windows.10\\AppData\\Local\\Programs\\Python\\Python312\\Lib\\site-packages\\mlflow\\tracing\\provider.py:202\u001b[0m, in \u001b[0;36mtrace_disabled.<locals>.wrapper\u001b[1;34m(*args, **kwargs)\u001b[0m\n\u001b[0;32m    200\u001b[0m disable()\n\u001b[0;32m    201\u001b[0m \u001b[38;5;28;01mtry\u001b[39;00m:\n\u001b[1;32m--> 202\u001b[0m     \u001b[38;5;28;01mreturn\u001b[39;00m \u001b[43mf\u001b[49m\u001b[43m(\u001b[49m\u001b[38;5;241;43m*\u001b[39;49m\u001b[43margs\u001b[49m\u001b[43m,\u001b[49m\u001b[43m \u001b[49m\u001b[38;5;241;43m*\u001b[39;49m\u001b[38;5;241;43m*\u001b[39;49m\u001b[43mkwargs\u001b[49m\u001b[43m)\u001b[49m\n\u001b[0;32m    203\u001b[0m \u001b[38;5;28;01mfinally\u001b[39;00m:\n\u001b[0;32m    204\u001b[0m     enable()\n",
            "File \u001b[1;32mc:\\Users\\Windows.10\\AppData\\Local\\Programs\\Python\\Python312\\Lib\\site-packages\\mlflow\\pyfunc\\__init__.py:979\u001b[0m, in \u001b[0;36mload_model\u001b[1;34m(model_uri, suppress_warnings, dst_path, model_config)\u001b[0m\n\u001b[0;32m    975\u001b[0m         entity_list\u001b[38;5;241m.\u001b[39mappend(Entity(job\u001b[38;5;241m=\u001b[39mjob_entity))\n\u001b[0;32m    977\u001b[0m     lineage_header_info \u001b[38;5;241m=\u001b[39m LineageHeaderInfo(entities\u001b[38;5;241m=\u001b[39mentity_list) \u001b[38;5;28;01mif\u001b[39;00m entity_list \u001b[38;5;28;01melse\u001b[39;00m \u001b[38;5;28;01mNone\u001b[39;00m\n\u001b[1;32m--> 979\u001b[0m local_path \u001b[38;5;241m=\u001b[39m \u001b[43m_download_artifact_from_uri\u001b[49m\u001b[43m(\u001b[49m\n\u001b[0;32m    980\u001b[0m \u001b[43m    \u001b[49m\u001b[43martifact_uri\u001b[49m\u001b[38;5;241;43m=\u001b[39;49m\u001b[43mmodel_uri\u001b[49m\u001b[43m,\u001b[49m\u001b[43m \u001b[49m\u001b[43moutput_path\u001b[49m\u001b[38;5;241;43m=\u001b[39;49m\u001b[43mdst_path\u001b[49m\u001b[43m,\u001b[49m\u001b[43m \u001b[49m\u001b[43mlineage_header_info\u001b[49m\u001b[38;5;241;43m=\u001b[39;49m\u001b[43mlineage_header_info\u001b[49m\n\u001b[0;32m    981\u001b[0m \u001b[43m\u001b[49m\u001b[43m)\u001b[49m\n\u001b[0;32m    983\u001b[0m \u001b[38;5;28;01mif\u001b[39;00m \u001b[38;5;129;01mnot\u001b[39;00m suppress_warnings:\n\u001b[0;32m    984\u001b[0m     model_requirements \u001b[38;5;241m=\u001b[39m _get_pip_requirements_from_model_path(local_path)\n",
            "File \u001b[1;32mc:\\Users\\Windows.10\\AppData\\Local\\Programs\\Python\\Python312\\Lib\\site-packages\\mlflow\\tracking\\artifact_utils.py:108\u001b[0m, in \u001b[0;36m_download_artifact_from_uri\u001b[1;34m(artifact_uri, output_path, lineage_header_info)\u001b[0m\n\u001b[0;32m    100\u001b[0m \u001b[38;5;250m\u001b[39m\u001b[38;5;124;03m\"\"\"\u001b[39;00m\n\u001b[0;32m    101\u001b[0m \u001b[38;5;124;03mArgs:\u001b[39;00m\n\u001b[0;32m    102\u001b[0m \u001b[38;5;124;03m    artifact_uri: The *absolute* URI of the artifact to download.\u001b[39;00m\n\u001b[1;32m   (...)\u001b[0m\n\u001b[0;32m    105\u001b[0m \u001b[38;5;124;03m    lineage_header_info: The model lineage header info to be consumed by lineage services.\u001b[39;00m\n\u001b[0;32m    106\u001b[0m \u001b[38;5;124;03m\"\"\"\u001b[39;00m\n\u001b[0;32m    107\u001b[0m root_uri, artifact_path \u001b[38;5;241m=\u001b[39m _get_root_uri_and_artifact_path(artifact_uri)\n\u001b[1;32m--> 108\u001b[0m repo \u001b[38;5;241m=\u001b[39m \u001b[43mget_artifact_repository\u001b[49m\u001b[43m(\u001b[49m\u001b[43martifact_uri\u001b[49m\u001b[38;5;241;43m=\u001b[39;49m\u001b[43mroot_uri\u001b[49m\u001b[43m)\u001b[49m\n\u001b[0;32m    110\u001b[0m \u001b[38;5;28;01mif\u001b[39;00m \u001b[38;5;28misinstance\u001b[39m(repo, ModelsArtifactRepository):\n\u001b[0;32m    111\u001b[0m     \u001b[38;5;28;01mreturn\u001b[39;00m repo\u001b[38;5;241m.\u001b[39mdownload_artifacts(\n\u001b[0;32m    112\u001b[0m         artifact_path\u001b[38;5;241m=\u001b[39martifact_path,\n\u001b[0;32m    113\u001b[0m         dst_path\u001b[38;5;241m=\u001b[39moutput_path,\n\u001b[0;32m    114\u001b[0m         lineage_header_info\u001b[38;5;241m=\u001b[39mlineage_header_info,\n\u001b[0;32m    115\u001b[0m     )\n",
            "File \u001b[1;32mc:\\Users\\Windows.10\\AppData\\Local\\Programs\\Python\\Python312\\Lib\\site-packages\\mlflow\\store\\artifact\\artifact_repository_registry.py:124\u001b[0m, in \u001b[0;36mget_artifact_repository\u001b[1;34m(artifact_uri)\u001b[0m\n\u001b[0;32m    111\u001b[0m \u001b[38;5;28;01mdef\u001b[39;00m \u001b[38;5;21mget_artifact_repository\u001b[39m(artifact_uri: \u001b[38;5;28mstr\u001b[39m) \u001b[38;5;241m-\u001b[39m\u001b[38;5;241m>\u001b[39m ArtifactRepository:\n\u001b[0;32m    112\u001b[0m \u001b[38;5;250m    \u001b[39m\u001b[38;5;124;03m\"\"\"\u001b[39;00m\n\u001b[0;32m    113\u001b[0m \u001b[38;5;124;03m    Get an artifact repository from the registry based on the scheme of artifact_uri\u001b[39;00m\n\u001b[0;32m    114\u001b[0m \n\u001b[1;32m   (...)\u001b[0m\n\u001b[0;32m    122\u001b[0m \u001b[38;5;124;03m        requirements.\u001b[39;00m\n\u001b[0;32m    123\u001b[0m \u001b[38;5;124;03m    \"\"\"\u001b[39;00m\n\u001b[1;32m--> 124\u001b[0m     \u001b[38;5;28;01mreturn\u001b[39;00m \u001b[43m_artifact_repository_registry\u001b[49m\u001b[38;5;241;43m.\u001b[39;49m\u001b[43mget_artifact_repository\u001b[49m\u001b[43m(\u001b[49m\u001b[43martifact_uri\u001b[49m\u001b[43m)\u001b[49m\n",
            "File \u001b[1;32mc:\\Users\\Windows.10\\AppData\\Local\\Programs\\Python\\Python312\\Lib\\site-packages\\mlflow\\store\\artifact\\artifact_repository_registry.py:77\u001b[0m, in \u001b[0;36mArtifactRepositoryRegistry.get_artifact_repository\u001b[1;34m(self, artifact_uri)\u001b[0m\n\u001b[0;32m     72\u001b[0m \u001b[38;5;28;01mif\u001b[39;00m repository \u001b[38;5;129;01mis\u001b[39;00m \u001b[38;5;28;01mNone\u001b[39;00m:\n\u001b[0;32m     73\u001b[0m     \u001b[38;5;28;01mraise\u001b[39;00m MlflowException(\n\u001b[0;32m     74\u001b[0m         \u001b[38;5;124mf\u001b[39m\u001b[38;5;124m\"\u001b[39m\u001b[38;5;124mCould not find a registered artifact repository for: \u001b[39m\u001b[38;5;132;01m{\u001b[39;00martifact_uri\u001b[38;5;132;01m}\u001b[39;00m\u001b[38;5;124m. \u001b[39m\u001b[38;5;124m\"\u001b[39m\n\u001b[0;32m     75\u001b[0m         \u001b[38;5;124mf\u001b[39m\u001b[38;5;124m\"\u001b[39m\u001b[38;5;124mCurrently registered schemes are: \u001b[39m\u001b[38;5;132;01m{\u001b[39;00m\u001b[38;5;28mlist\u001b[39m(\u001b[38;5;28mself\u001b[39m\u001b[38;5;241m.\u001b[39m_registry\u001b[38;5;241m.\u001b[39mkeys())\u001b[38;5;132;01m}\u001b[39;00m\u001b[38;5;124m\"\u001b[39m\n\u001b[0;32m     76\u001b[0m     )\n\u001b[1;32m---> 77\u001b[0m \u001b[38;5;28;01mreturn\u001b[39;00m \u001b[43mrepository\u001b[49m\u001b[43m(\u001b[49m\u001b[43martifact_uri\u001b[49m\u001b[43m)\u001b[49m\n",
            "File \u001b[1;32mc:\\Users\\Windows.10\\AppData\\Local\\Programs\\Python\\Python312\\Lib\\site-packages\\mlflow\\store\\artifact\\runs_artifact_repo.py:26\u001b[0m, in \u001b[0;36mRunsArtifactRepository.__init__\u001b[1;34m(self, artifact_uri)\u001b[0m\n\u001b[0;32m     23\u001b[0m \u001b[38;5;28;01mfrom\u001b[39;00m \u001b[38;5;21;01mmlflow\u001b[39;00m\u001b[38;5;21;01m.\u001b[39;00m\u001b[38;5;21;01mstore\u001b[39;00m\u001b[38;5;21;01m.\u001b[39;00m\u001b[38;5;21;01martifact\u001b[39;00m\u001b[38;5;21;01m.\u001b[39;00m\u001b[38;5;21;01martifact_repository_registry\u001b[39;00m \u001b[38;5;28;01mimport\u001b[39;00m get_artifact_repository\n\u001b[0;32m     25\u001b[0m \u001b[38;5;28msuper\u001b[39m()\u001b[38;5;241m.\u001b[39m\u001b[38;5;21m__init__\u001b[39m(artifact_uri)\n\u001b[1;32m---> 26\u001b[0m uri \u001b[38;5;241m=\u001b[39m \u001b[43mRunsArtifactRepository\u001b[49m\u001b[38;5;241;43m.\u001b[39;49m\u001b[43mget_underlying_uri\u001b[49m\u001b[43m(\u001b[49m\u001b[43martifact_uri\u001b[49m\u001b[43m)\u001b[49m\n\u001b[0;32m     27\u001b[0m \u001b[38;5;28mself\u001b[39m\u001b[38;5;241m.\u001b[39mrepo \u001b[38;5;241m=\u001b[39m get_artifact_repository(uri)\n",
            "File \u001b[1;32mc:\\Users\\Windows.10\\AppData\\Local\\Programs\\Python\\Python312\\Lib\\site-packages\\mlflow\\store\\artifact\\runs_artifact_repo.py:39\u001b[0m, in \u001b[0;36mRunsArtifactRepository.get_underlying_uri\u001b[1;34m(runs_uri)\u001b[0m\n\u001b[0;32m     37\u001b[0m (run_id, artifact_path) \u001b[38;5;241m=\u001b[39m RunsArtifactRepository\u001b[38;5;241m.\u001b[39mparse_runs_uri(runs_uri)\n\u001b[0;32m     38\u001b[0m tracking_uri \u001b[38;5;241m=\u001b[39m get_databricks_profile_uri_from_artifact_uri(runs_uri)\n\u001b[1;32m---> 39\u001b[0m uri \u001b[38;5;241m=\u001b[39m \u001b[43mget_artifact_uri\u001b[49m\u001b[43m(\u001b[49m\u001b[43mrun_id\u001b[49m\u001b[43m,\u001b[49m\u001b[43m \u001b[49m\u001b[43martifact_path\u001b[49m\u001b[43m,\u001b[49m\u001b[43m \u001b[49m\u001b[43mtracking_uri\u001b[49m\u001b[43m)\u001b[49m\n\u001b[0;32m     40\u001b[0m \u001b[38;5;28;01massert\u001b[39;00m \u001b[38;5;129;01mnot\u001b[39;00m RunsArtifactRepository\u001b[38;5;241m.\u001b[39mis_runs_uri(uri)  \u001b[38;5;66;03m# avoid an infinite loop\u001b[39;00m\n\u001b[0;32m     41\u001b[0m \u001b[38;5;28;01mreturn\u001b[39;00m add_databricks_profile_info_to_artifact_uri(uri, tracking_uri)\n",
            "File \u001b[1;32mc:\\Users\\Windows.10\\AppData\\Local\\Programs\\Python\\Python312\\Lib\\site-packages\\mlflow\\tracking\\artifact_utils.py:52\u001b[0m, in \u001b[0;36mget_artifact_uri\u001b[1;34m(run_id, artifact_path, tracking_uri)\u001b[0m\n\u001b[0;32m     46\u001b[0m     \u001b[38;5;28;01mraise\u001b[39;00m MlflowException(\n\u001b[0;32m     47\u001b[0m         message\u001b[38;5;241m=\u001b[39m\u001b[38;5;124m\"\u001b[39m\u001b[38;5;124mA run_id must be specified in order to obtain an artifact uri!\u001b[39m\u001b[38;5;124m\"\u001b[39m,\n\u001b[0;32m     48\u001b[0m         error_code\u001b[38;5;241m=\u001b[39mINVALID_PARAMETER_VALUE,\n\u001b[0;32m     49\u001b[0m     )\n\u001b[0;32m     51\u001b[0m store \u001b[38;5;241m=\u001b[39m _get_store(tracking_uri)\n\u001b[1;32m---> 52\u001b[0m run \u001b[38;5;241m=\u001b[39m \u001b[43mstore\u001b[49m\u001b[38;5;241;43m.\u001b[39;49m\u001b[43mget_run\u001b[49m\u001b[43m(\u001b[49m\u001b[43mrun_id\u001b[49m\u001b[43m)\u001b[49m\n\u001b[0;32m     53\u001b[0m \u001b[38;5;66;03m# Maybe move this method to RunsArtifactRepository so the circular dependency is clearer.\u001b[39;00m\n\u001b[0;32m     54\u001b[0m \u001b[38;5;28;01massert\u001b[39;00m urllib\u001b[38;5;241m.\u001b[39mparse\u001b[38;5;241m.\u001b[39murlparse(run\u001b[38;5;241m.\u001b[39minfo\u001b[38;5;241m.\u001b[39martifact_uri)\u001b[38;5;241m.\u001b[39mscheme \u001b[38;5;241m!=\u001b[39m \u001b[38;5;124m\"\u001b[39m\u001b[38;5;124mruns\u001b[39m\u001b[38;5;124m\"\u001b[39m  \u001b[38;5;66;03m# avoid an infinite loop\u001b[39;00m\n",
            "File \u001b[1;32mc:\\Users\\Windows.10\\AppData\\Local\\Programs\\Python\\Python312\\Lib\\site-packages\\mlflow\\store\\tracking\\file_store.py:676\u001b[0m, in \u001b[0;36mFileStore.get_run\u001b[1;34m(self, run_id)\u001b[0m\n\u001b[0;32m    672\u001b[0m \u001b[38;5;250m\u001b[39m\u001b[38;5;124;03m\"\"\"\u001b[39;00m\n\u001b[0;32m    673\u001b[0m \u001b[38;5;124;03mNote: Will get both active and deleted runs.\u001b[39;00m\n\u001b[0;32m    674\u001b[0m \u001b[38;5;124;03m\"\"\"\u001b[39;00m\n\u001b[0;32m    675\u001b[0m _validate_run_id(run_id)\n\u001b[1;32m--> 676\u001b[0m run_info \u001b[38;5;241m=\u001b[39m \u001b[38;5;28;43mself\u001b[39;49m\u001b[38;5;241;43m.\u001b[39;49m\u001b[43m_get_run_info\u001b[49m\u001b[43m(\u001b[49m\u001b[43mrun_id\u001b[49m\u001b[43m)\u001b[49m\n\u001b[0;32m    677\u001b[0m \u001b[38;5;28;01mif\u001b[39;00m run_info \u001b[38;5;129;01mis\u001b[39;00m \u001b[38;5;28;01mNone\u001b[39;00m:\n\u001b[0;32m    678\u001b[0m     \u001b[38;5;28;01mraise\u001b[39;00m MlflowException(\n\u001b[0;32m    679\u001b[0m         \u001b[38;5;124mf\u001b[39m\u001b[38;5;124m\"\u001b[39m\u001b[38;5;124mRun \u001b[39m\u001b[38;5;124m'\u001b[39m\u001b[38;5;132;01m{\u001b[39;00mrun_id\u001b[38;5;132;01m}\u001b[39;00m\u001b[38;5;124m'\u001b[39m\u001b[38;5;124m metadata is in invalid state.\u001b[39m\u001b[38;5;124m\"\u001b[39m, databricks_pb2\u001b[38;5;241m.\u001b[39mINVALID_STATE\n\u001b[0;32m    680\u001b[0m     )\n",
            "File \u001b[1;32mc:\\Users\\Windows.10\\AppData\\Local\\Programs\\Python\\Python312\\Lib\\site-packages\\mlflow\\store\\tracking\\file_store.py:703\u001b[0m, in \u001b[0;36mFileStore._get_run_info\u001b[1;34m(self, run_uuid)\u001b[0m\n\u001b[0;32m    699\u001b[0m \u001b[38;5;28;01mif\u001b[39;00m run_dir \u001b[38;5;129;01mis\u001b[39;00m \u001b[38;5;28;01mNone\u001b[39;00m:\n\u001b[0;32m    700\u001b[0m     \u001b[38;5;28;01mraise\u001b[39;00m MlflowException(\n\u001b[0;32m    701\u001b[0m         \u001b[38;5;124mf\u001b[39m\u001b[38;5;124m\"\u001b[39m\u001b[38;5;124mRun \u001b[39m\u001b[38;5;124m'\u001b[39m\u001b[38;5;132;01m{\u001b[39;00mrun_uuid\u001b[38;5;132;01m}\u001b[39;00m\u001b[38;5;124m'\u001b[39m\u001b[38;5;124m not found\u001b[39m\u001b[38;5;124m\"\u001b[39m, databricks_pb2\u001b[38;5;241m.\u001b[39mRESOURCE_DOES_NOT_EXIST\n\u001b[0;32m    702\u001b[0m     )\n\u001b[1;32m--> 703\u001b[0m run_info \u001b[38;5;241m=\u001b[39m \u001b[38;5;28;43mself\u001b[39;49m\u001b[38;5;241;43m.\u001b[39;49m\u001b[43m_get_run_info_from_dir\u001b[49m\u001b[43m(\u001b[49m\u001b[43mrun_dir\u001b[49m\u001b[43m)\u001b[49m\n\u001b[0;32m    704\u001b[0m \u001b[38;5;28;01mif\u001b[39;00m run_info\u001b[38;5;241m.\u001b[39mexperiment_id \u001b[38;5;241m!=\u001b[39m exp_id:\n\u001b[0;32m    705\u001b[0m     \u001b[38;5;28;01mraise\u001b[39;00m MlflowException(\n\u001b[0;32m    706\u001b[0m         \u001b[38;5;124mf\u001b[39m\u001b[38;5;124m\"\u001b[39m\u001b[38;5;124mRun \u001b[39m\u001b[38;5;124m'\u001b[39m\u001b[38;5;132;01m{\u001b[39;00mrun_uuid\u001b[38;5;132;01m}\u001b[39;00m\u001b[38;5;124m'\u001b[39m\u001b[38;5;124m metadata is in invalid state.\u001b[39m\u001b[38;5;124m\"\u001b[39m, databricks_pb2\u001b[38;5;241m.\u001b[39mINVALID_STATE\n\u001b[0;32m    707\u001b[0m     )\n",
            "File \u001b[1;32mc:\\Users\\Windows.10\\AppData\\Local\\Programs\\Python\\Python312\\Lib\\site-packages\\mlflow\\store\\tracking\\file_store.py:712\u001b[0m, in \u001b[0;36mFileStore._get_run_info_from_dir\u001b[1;34m(self, run_dir)\u001b[0m\n\u001b[0;32m    710\u001b[0m \u001b[38;5;28;01mdef\u001b[39;00m \u001b[38;5;21m_get_run_info_from_dir\u001b[39m(\u001b[38;5;28mself\u001b[39m, run_dir):\n\u001b[0;32m    711\u001b[0m     meta \u001b[38;5;241m=\u001b[39m FileStore\u001b[38;5;241m.\u001b[39m_read_yaml(run_dir, FileStore\u001b[38;5;241m.\u001b[39mMETA_DATA_FILE_NAME)\n\u001b[1;32m--> 712\u001b[0m     \u001b[38;5;28;01mreturn\u001b[39;00m \u001b[43m_read_persisted_run_info_dict\u001b[49m\u001b[43m(\u001b[49m\u001b[43mmeta\u001b[49m\u001b[43m)\u001b[49m\n",
            "File \u001b[1;32mc:\\Users\\Windows.10\\AppData\\Local\\Programs\\Python\\Python312\\Lib\\site-packages\\mlflow\\store\\tracking\\file_store.py:146\u001b[0m, in \u001b[0;36m_read_persisted_run_info_dict\u001b[1;34m(run_info_dict)\u001b[0m\n\u001b[0;32m    142\u001b[0m dict_copy[\u001b[38;5;124m\"\u001b[39m\u001b[38;5;124mstatus\u001b[39m\u001b[38;5;124m\"\u001b[39m] \u001b[38;5;241m=\u001b[39m RunStatus\u001b[38;5;241m.\u001b[39mto_string(run_info_dict\u001b[38;5;241m.\u001b[39mget(\u001b[38;5;124m\"\u001b[39m\u001b[38;5;124mstatus\u001b[39m\u001b[38;5;124m\"\u001b[39m, RunStatus\u001b[38;5;241m.\u001b[39mRUNNING))\n\u001b[0;32m    144\u001b[0m \u001b[38;5;66;03m# 'experiment_id' was changed from int to string, so we must cast to string\u001b[39;00m\n\u001b[0;32m    145\u001b[0m \u001b[38;5;66;03m# when reading legacy run_infos\u001b[39;00m\n\u001b[1;32m--> 146\u001b[0m \u001b[38;5;28;01mif\u001b[39;00m \u001b[38;5;28misinstance\u001b[39m(\u001b[43mdict_copy\u001b[49m\u001b[43m[\u001b[49m\u001b[38;5;124;43m\"\u001b[39;49m\u001b[38;5;124;43mexperiment_id\u001b[39;49m\u001b[38;5;124;43m\"\u001b[39;49m\u001b[43m]\u001b[49m, \u001b[38;5;28mint\u001b[39m):\n\u001b[0;32m    147\u001b[0m     dict_copy[\u001b[38;5;124m\"\u001b[39m\u001b[38;5;124mexperiment_id\u001b[39m\u001b[38;5;124m\"\u001b[39m] \u001b[38;5;241m=\u001b[39m \u001b[38;5;28mstr\u001b[39m(dict_copy[\u001b[38;5;124m\"\u001b[39m\u001b[38;5;124mexperiment_id\u001b[39m\u001b[38;5;124m\"\u001b[39m])\n\u001b[0;32m    148\u001b[0m \u001b[38;5;28;01mreturn\u001b[39;00m RunInfo\u001b[38;5;241m.\u001b[39mfrom_dictionary(dict_copy)\n",
            "\u001b[1;31mKeyError\u001b[0m: 'experiment_id'"
          ]
        }
      ],
      "source": [
        "\n",
        "\n",
        "# Load the model\n",
        "loaded_model = mlflow.pyfunc.load_model(f\"runs:/CatBoost/{'Employee-Burn-Out-New-Exp'}/model.pkl\")"
      ]
    },
    {
      "cell_type": "code",
      "execution_count": null,
      "metadata": {},
      "outputs": [],
      "source": []
    }
  ],
  "metadata": {
    "accelerator": "GPU",
    "colab": {
      "collapsed_sections": [
        "Yx1jEO0NyP37"
      ],
      "gpuType": "T4",
      "provenance": []
    },
    "kernelspec": {
      "display_name": "Python 3",
      "name": "python3"
    },
    "language_info": {
      "codemirror_mode": {
        "name": "ipython",
        "version": 3
      },
      "file_extension": ".py",
      "mimetype": "text/x-python",
      "name": "python",
      "nbconvert_exporter": "python",
      "pygments_lexer": "ipython3",
      "version": "3.12.3"
    }
  },
  "nbformat": 4,
  "nbformat_minor": 0
}
